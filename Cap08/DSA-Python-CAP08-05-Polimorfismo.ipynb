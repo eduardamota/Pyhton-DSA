{
 "cells": [
  {
   "cell_type": "code",
   "execution_count": 1,
   "id": "def8a3aa",
   "metadata": {},
   "outputs": [],
   "source": [
    "class Veiculo:\n",
    "    def __init__ (self, marca,modelo):\n",
    "        self.marca = marca\n",
    "        self.modelo = modelo\n",
    "        \n",
    "    def acelerar(self):\n",
    "        pass\n",
    "    \n",
    "    def frear(self):\n",
    "        pass"
   ]
  },
  {
   "cell_type": "code",
   "execution_count": 9,
   "id": "e9d2b793",
   "metadata": {},
   "outputs": [],
   "source": [
    "#Subclasse\n",
    "\n",
    "class Carro(Veiculo):\n",
    "    \n",
    "    def acelerar(self):\n",
    "        print(\"O carro está acelerando\")\n",
    "        \n",
    "    def frear(self):\n",
    "        print(\"O carro está freando\")"
   ]
  },
  {
   "cell_type": "code",
   "execution_count": 10,
   "id": "f6906496",
   "metadata": {},
   "outputs": [],
   "source": [
    "#Subclasse\n",
    "\n",
    "class Moto(Veiculo):\n",
    "    \n",
    "    def acelerar(self):\n",
    "        print(\"O moto está acelerando\")\n",
    "        \n",
    "    def frear(self):\n",
    "        print(\"O moto está freando\")"
   ]
  },
  {
   "cell_type": "code",
   "execution_count": 11,
   "id": "5e674c1d",
   "metadata": {},
   "outputs": [],
   "source": [
    "#Subclasse\n",
    "\n",
    "class Aviao(Veiculo):\n",
    "    \n",
    "    def acelerar(self):\n",
    "        print(\"O Aviao está acelerando\")\n",
    "        \n",
    "    def frear(self):\n",
    "        print(\"O Aviao está freando\")\n",
    "    def decolar(self):\n",
    "        print(\"O Aviao está decolando\")"
   ]
  },
  {
   "cell_type": "code",
   "execution_count": 12,
   "id": "73948f41",
   "metadata": {},
   "outputs": [],
   "source": [
    "lista_veiculos = [Carro(\"Porsche\",\"911 Turbo\"), Moto(\"Honda\", \"CB 1000R Black Edition\"), Aviao(\"Boeing\",\"757\")]"
   ]
  },
  {
   "cell_type": "code",
   "execution_count": 13,
   "id": "e301d315",
   "metadata": {},
   "outputs": [
    {
     "data": {
      "text/plain": [
       "list"
      ]
     },
     "execution_count": 13,
     "metadata": {},
     "output_type": "execute_result"
    }
   ],
   "source": [
    "type(lista_veiculos )"
   ]
  },
  {
   "cell_type": "code",
   "execution_count": 14,
   "id": "fbf909e2",
   "metadata": {},
   "outputs": [
    {
     "name": "stdout",
     "output_type": "stream",
     "text": [
      "O carro está acelerando\n",
      "O carro está freando\n",
      "---\n",
      "O moto está acelerando\n",
      "O moto está freando\n",
      "---\n",
      "O Aviao está acelerando\n",
      "O Aviao está freando\n",
      "O Aviao está decolando\n",
      "---\n"
     ]
    }
   ],
   "source": [
    "for i in lista_veiculos:\n",
    "    i.acelerar()\n",
    "    i.frear()\n",
    "    \n",
    "    if isinstance(i,Aviao):\n",
    "        i.decolar()\n",
    "        \n",
    "    print(\"---\")"
   ]
  }
 ],
 "metadata": {
  "kernelspec": {
   "display_name": "Python 3 (ipykernel)",
   "language": "python",
   "name": "python3"
  },
  "language_info": {
   "codemirror_mode": {
    "name": "ipython",
    "version": 3
   },
   "file_extension": ".py",
   "mimetype": "text/x-python",
   "name": "python",
   "nbconvert_exporter": "python",
   "pygments_lexer": "ipython3",
   "version": "3.9.13"
  }
 },
 "nbformat": 4,
 "nbformat_minor": 5
}
