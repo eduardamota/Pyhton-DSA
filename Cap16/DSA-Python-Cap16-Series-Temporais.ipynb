{
 "cells": [
  {
   "cell_type": "markdown",
   "id": "6f61266b",
   "metadata": {},
   "source": [
    "## Análise de Séries Temporais em Python\n",
    "Problema de Negócio:\n",
    "Usando dados históricos das vendas ao longo de 2023 seria possível prever o total de vendas de Janeiro/2024?"
   ]
  },
  {
   "cell_type": "code",
   "execution_count": 2,
   "id": "edfe0941",
   "metadata": {},
   "outputs": [],
   "source": [
    "import numpy as np\n",
    "import pandas as pd\n",
    "import matplotlib.pyplot as plt\n",
    "import seaborn as sns\n",
    "from statsmodels.tsa.holtwinters import SimpleExpSmoothing"
   ]
  },
  {
   "cell_type": "markdown",
   "id": "5c0bd7d0",
   "metadata": {},
   "source": [
    "## Carregando os Dados "
   ]
  },
  {
   "cell_type": "code",
   "execution_count": 4,
   "id": "02473b16",
   "metadata": {},
   "outputs": [],
   "source": [
    "df_dsa = pd.read_csv('dataset.csv')"
   ]
  },
  {
   "cell_type": "code",
   "execution_count": 5,
   "id": "aed3ac92",
   "metadata": {},
   "outputs": [
    {
     "data": {
      "text/plain": [
       "(365, 2)"
      ]
     },
     "execution_count": 5,
     "metadata": {},
     "output_type": "execute_result"
    }
   ],
   "source": [
    "df_dsa.shape"
   ]
  },
  {
   "cell_type": "code",
   "execution_count": 6,
   "id": "6104f0ff",
   "metadata": {},
   "outputs": [
    {
     "data": {
      "text/plain": [
       "Index(['Data', 'Total_Vendas'], dtype='object')"
      ]
     },
     "execution_count": 6,
     "metadata": {},
     "output_type": "execute_result"
    }
   ],
   "source": [
    "df_dsa.columns"
   ]
  },
  {
   "cell_type": "code",
   "execution_count": 7,
   "id": "7dcf8862",
   "metadata": {},
   "outputs": [
    {
     "data": {
      "text/html": [
       "<div>\n",
       "<style scoped>\n",
       "    .dataframe tbody tr th:only-of-type {\n",
       "        vertical-align: middle;\n",
       "    }\n",
       "\n",
       "    .dataframe tbody tr th {\n",
       "        vertical-align: top;\n",
       "    }\n",
       "\n",
       "    .dataframe thead th {\n",
       "        text-align: right;\n",
       "    }\n",
       "</style>\n",
       "<table border=\"1\" class=\"dataframe\">\n",
       "  <thead>\n",
       "    <tr style=\"text-align: right;\">\n",
       "      <th></th>\n",
       "      <th>Data</th>\n",
       "      <th>Total_Vendas</th>\n",
       "    </tr>\n",
       "  </thead>\n",
       "  <tbody>\n",
       "    <tr>\n",
       "      <th>0</th>\n",
       "      <td>2023-01-01</td>\n",
       "      <td>53.483571</td>\n",
       "    </tr>\n",
       "    <tr>\n",
       "      <th>1</th>\n",
       "      <td>2023-01-02</td>\n",
       "      <td>57.176993</td>\n",
       "    </tr>\n",
       "    <tr>\n",
       "      <th>2</th>\n",
       "      <td>2023-01-03</td>\n",
       "      <td>63.087722</td>\n",
       "    </tr>\n",
       "    <tr>\n",
       "      <th>3</th>\n",
       "      <td>2023-01-04</td>\n",
       "      <td>62.103987</td>\n",
       "    </tr>\n",
       "    <tr>\n",
       "      <th>4</th>\n",
       "      <td>2023-01-05</td>\n",
       "      <td>44.690396</td>\n",
       "    </tr>\n",
       "  </tbody>\n",
       "</table>\n",
       "</div>"
      ],
      "text/plain": [
       "         Data  Total_Vendas\n",
       "0  2023-01-01     53.483571\n",
       "1  2023-01-02     57.176993\n",
       "2  2023-01-03     63.087722\n",
       "3  2023-01-04     62.103987\n",
       "4  2023-01-05     44.690396"
      ]
     },
     "execution_count": 7,
     "metadata": {},
     "output_type": "execute_result"
    }
   ],
   "source": [
    "df_dsa.head()"
   ]
  },
  {
   "cell_type": "code",
   "execution_count": 8,
   "id": "b5542f3c",
   "metadata": {
    "scrolled": true
   },
   "outputs": [
    {
     "data": {
      "text/html": [
       "<div>\n",
       "<style scoped>\n",
       "    .dataframe tbody tr th:only-of-type {\n",
       "        vertical-align: middle;\n",
       "    }\n",
       "\n",
       "    .dataframe tbody tr th {\n",
       "        vertical-align: top;\n",
       "    }\n",
       "\n",
       "    .dataframe thead th {\n",
       "        text-align: right;\n",
       "    }\n",
       "</style>\n",
       "<table border=\"1\" class=\"dataframe\">\n",
       "  <thead>\n",
       "    <tr style=\"text-align: right;\">\n",
       "      <th></th>\n",
       "      <th>Data</th>\n",
       "      <th>Total_Vendas</th>\n",
       "    </tr>\n",
       "  </thead>\n",
       "  <tbody>\n",
       "    <tr>\n",
       "      <th>360</th>\n",
       "      <td>2023-12-27</td>\n",
       "      <td>74.935570</td>\n",
       "    </tr>\n",
       "    <tr>\n",
       "      <th>361</th>\n",
       "      <td>2023-12-28</td>\n",
       "      <td>71.374857</td>\n",
       "    </tr>\n",
       "    <tr>\n",
       "      <th>362</th>\n",
       "      <td>2023-12-29</td>\n",
       "      <td>57.806920</td>\n",
       "    </tr>\n",
       "    <tr>\n",
       "      <th>363</th>\n",
       "      <td>2023-12-30</td>\n",
       "      <td>62.340244</td>\n",
       "    </tr>\n",
       "    <tr>\n",
       "      <th>364</th>\n",
       "      <td>2023-12-31</td>\n",
       "      <td>71.650720</td>\n",
       "    </tr>\n",
       "  </tbody>\n",
       "</table>\n",
       "</div>"
      ],
      "text/plain": [
       "           Data  Total_Vendas\n",
       "360  2023-12-27     74.935570\n",
       "361  2023-12-28     71.374857\n",
       "362  2023-12-29     57.806920\n",
       "363  2023-12-30     62.340244\n",
       "364  2023-12-31     71.650720"
      ]
     },
     "execution_count": 8,
     "metadata": {},
     "output_type": "execute_result"
    }
   ],
   "source": [
    "df_dsa.tail()"
   ]
  },
  {
   "cell_type": "markdown",
   "id": "f3b58d48",
   "metadata": {},
   "source": [
    "## Pré-Processamento dos Dados"
   ]
  },
  {
   "cell_type": "code",
   "execution_count": 9,
   "id": "381f48b6",
   "metadata": {},
   "outputs": [
    {
     "data": {
      "text/plain": [
       "'2023-01-01'"
      ]
     },
     "execution_count": 9,
     "metadata": {},
     "output_type": "execute_result"
    }
   ],
   "source": [
    "#Valor mínimo da coluna data\n",
    "df_dsa['Data'].min()"
   ]
  },
  {
   "cell_type": "code",
   "execution_count": 10,
   "id": "3381b6aa",
   "metadata": {},
   "outputs": [
    {
     "data": {
      "text/plain": [
       "'2023-12-31'"
      ]
     },
     "execution_count": 10,
     "metadata": {},
     "output_type": "execute_result"
    }
   ],
   "source": [
    "#Valor máximo da coluna data\n",
    "df_dsa['Data'].max()"
   ]
  },
  {
   "cell_type": "code",
   "execution_count": 12,
   "id": "b42ec7bd",
   "metadata": {
    "scrolled": true
   },
   "outputs": [
    {
     "name": "stdout",
     "output_type": "stream",
     "text": [
      "<class 'pandas.core.frame.DataFrame'>\n",
      "RangeIndex: 365 entries, 0 to 364\n",
      "Data columns (total 2 columns):\n",
      " #   Column        Non-Null Count  Dtype  \n",
      "---  ------        --------------  -----  \n",
      " 0   Data          365 non-null    object \n",
      " 1   Total_Vendas  365 non-null    float64\n",
      "dtypes: float64(1), object(1)\n",
      "memory usage: 5.8+ KB\n"
     ]
    }
   ],
   "source": [
    "df_dsa.info()"
   ]
  },
  {
   "cell_type": "code",
   "execution_count": 13,
   "id": "f5d143a5",
   "metadata": {},
   "outputs": [],
   "source": [
    "#Convertendo a coluna data para o tipo datetime\n",
    "df_dsa['Data'] = pd.to_datetime(df_dsa['Data'])"
   ]
  },
  {
   "cell_type": "code",
   "execution_count": 14,
   "id": "caca4d46",
   "metadata": {},
   "outputs": [
    {
     "data": {
      "text/html": [
       "<div>\n",
       "<style scoped>\n",
       "    .dataframe tbody tr th:only-of-type {\n",
       "        vertical-align: middle;\n",
       "    }\n",
       "\n",
       "    .dataframe tbody tr th {\n",
       "        vertical-align: top;\n",
       "    }\n",
       "\n",
       "    .dataframe thead th {\n",
       "        text-align: right;\n",
       "    }\n",
       "</style>\n",
       "<table border=\"1\" class=\"dataframe\">\n",
       "  <thead>\n",
       "    <tr style=\"text-align: right;\">\n",
       "      <th></th>\n",
       "      <th>Data</th>\n",
       "      <th>Total_Vendas</th>\n",
       "    </tr>\n",
       "  </thead>\n",
       "  <tbody>\n",
       "    <tr>\n",
       "      <th>0</th>\n",
       "      <td>2023-01-01</td>\n",
       "      <td>53.483571</td>\n",
       "    </tr>\n",
       "    <tr>\n",
       "      <th>1</th>\n",
       "      <td>2023-01-02</td>\n",
       "      <td>57.176993</td>\n",
       "    </tr>\n",
       "    <tr>\n",
       "      <th>2</th>\n",
       "      <td>2023-01-03</td>\n",
       "      <td>63.087722</td>\n",
       "    </tr>\n",
       "    <tr>\n",
       "      <th>3</th>\n",
       "      <td>2023-01-04</td>\n",
       "      <td>62.103987</td>\n",
       "    </tr>\n",
       "    <tr>\n",
       "      <th>4</th>\n",
       "      <td>2023-01-05</td>\n",
       "      <td>44.690396</td>\n",
       "    </tr>\n",
       "  </tbody>\n",
       "</table>\n",
       "</div>"
      ],
      "text/plain": [
       "        Data  Total_Vendas\n",
       "0 2023-01-01     53.483571\n",
       "1 2023-01-02     57.176993\n",
       "2 2023-01-03     63.087722\n",
       "3 2023-01-04     62.103987\n",
       "4 2023-01-05     44.690396"
      ]
     },
     "execution_count": 14,
     "metadata": {},
     "output_type": "execute_result"
    }
   ],
   "source": [
    "df_dsa.head()"
   ]
  },
  {
   "cell_type": "code",
   "execution_count": 15,
   "id": "f5331dea",
   "metadata": {},
   "outputs": [
    {
     "name": "stdout",
     "output_type": "stream",
     "text": [
      "<class 'pandas.core.frame.DataFrame'>\n",
      "RangeIndex: 365 entries, 0 to 364\n",
      "Data columns (total 2 columns):\n",
      " #   Column        Non-Null Count  Dtype         \n",
      "---  ------        --------------  -----         \n",
      " 0   Data          365 non-null    datetime64[ns]\n",
      " 1   Total_Vendas  365 non-null    float64       \n",
      "dtypes: datetime64[ns](1), float64(1)\n",
      "memory usage: 5.8 KB\n"
     ]
    }
   ],
   "source": [
    "df_dsa.info()"
   ]
  },
  {
   "cell_type": "code",
   "execution_count": 17,
   "id": "f7cdc430",
   "metadata": {},
   "outputs": [],
   "source": [
    "#Converter o DataFrame em uma série temporal com a data como índice\n",
    "serie_temporal = df_dsa.set_index('Data')['Total_Vendas']"
   ]
  },
  {
   "cell_type": "code",
   "execution_count": 18,
   "id": "9a8bd575",
   "metadata": {},
   "outputs": [
    {
     "data": {
      "text/plain": [
       "pandas.core.series.Series"
      ]
     },
     "execution_count": 18,
     "metadata": {},
     "output_type": "execute_result"
    }
   ],
   "source": [
    "type(serie_temporal)"
   ]
  },
  {
   "cell_type": "code",
   "execution_count": 19,
   "id": "6e64b4cd",
   "metadata": {},
   "outputs": [
    {
     "data": {
      "text/plain": [
       "Data\n",
       "2023-01-01    53.483571\n",
       "2023-01-02    57.176993\n",
       "2023-01-03    63.087722\n",
       "2023-01-04    62.103987\n",
       "2023-01-05    44.690396\n",
       "                ...    \n",
       "2023-12-27    74.935570\n",
       "2023-12-28    71.374857\n",
       "2023-12-29    57.806920\n",
       "2023-12-30    62.340244\n",
       "2023-12-31    71.650720\n",
       "Name: Total_Vendas, Length: 365, dtype: float64"
      ]
     },
     "execution_count": 19,
     "metadata": {},
     "output_type": "execute_result"
    }
   ],
   "source": [
    "serie_temporal"
   ]
  },
  {
   "cell_type": "code",
   "execution_count": 20,
   "id": "b42f1022",
   "metadata": {},
   "outputs": [],
   "source": [
    "#Fornece a frequência da série temporal (diária)\n",
    "serie_temporal = serie_temporal.asfreq('D')"
   ]
  },
  {
   "cell_type": "code",
   "execution_count": 21,
   "id": "7a713f59",
   "metadata": {},
   "outputs": [
    {
     "data": {
      "text/plain": [
       "Data\n",
       "2023-01-01    53.483571\n",
       "2023-01-02    57.176993\n",
       "2023-01-03    63.087722\n",
       "2023-01-04    62.103987\n",
       "2023-01-05    44.690396\n",
       "                ...    \n",
       "2023-12-27    74.935570\n",
       "2023-12-28    71.374857\n",
       "2023-12-29    57.806920\n",
       "2023-12-30    62.340244\n",
       "2023-12-31    71.650720\n",
       "Freq: D, Name: Total_Vendas, Length: 365, dtype: float64"
      ]
     },
     "execution_count": 21,
     "metadata": {},
     "output_type": "execute_result"
    }
   ],
   "source": [
    "serie_temporal "
   ]
  },
  {
   "cell_type": "markdown",
   "id": "d5885312",
   "metadata": {},
   "source": [
    "## Análise Exploratória"
   ]
  },
  {
   "cell_type": "code",
   "execution_count": 23,
   "id": "8c52e260",
   "metadata": {
    "scrolled": true
   },
   "outputs": [
    {
     "data": {
      "image/png": "[encoded data removed]",
      "text/plain": [
       "<Figure size 1200x600 with 1 Axes>"
      ]
     },
     "metadata": {},
     "output_type": "display_data"
    }
   ],
   "source": [
    "#Cria o gráfico de série temporal (sem formatação)\n",
    "plt.figure(figsize = (12,6))\n",
    "plt.plot(serie_temporal, color = 'k')\n",
    "plt.xlabel('Data')\n",
    "plt.xlabel('Vendas')\n",
    "plt.title('Série Temporal de Vendas')\n",
    "plt.grid(True)\n",
    "plt.show()"
   ]
  },
  {
   "cell_type": "markdown",
   "id": "6757d8b6",
   "metadata": {},
   "source": [
    "## Suavização Exponencial"
   ]
  }
 ],
 "metadata": {
  "kernelspec": {
   "display_name": "Python 3 (ipykernel)",
   "language": "python",
   "name": "python3"
  },
  "language_info": {
   "codemirror_mode": {
    "name": "ipython",
    "version": 3
   },
   "file_extension": ".py",
   "mimetype": "text/x-python",
   "name": "python",
   "nbconvert_exporter": "python",
   "pygments_lexer": "ipython3",
   "version": "3.9.13"
  }
 },
 "nbformat": 4,
 "nbformat_minor": 5
}
