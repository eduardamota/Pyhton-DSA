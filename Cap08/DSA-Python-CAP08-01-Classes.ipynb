{
 "cells": [
  {
   "cell_type": "markdown",
   "id": "60341923",
   "metadata": {},
   "source": [
    "## Classes\n",
    "Em POO classe é uma estrutura que descreve um objeto, os atributos e comportamentos que o objeto deve ter. É como se fosse um modelo que vai definir características e ações que um objeto deve possuir"
   ]
  },
  {
   "cell_type": "code",
   "execution_count": 14,
   "id": "01b25131",
   "metadata": {},
   "outputs": [],
   "source": [
    "class Livro():\n",
    "    #Método inicia cada objeto criado a partir desta classe \n",
    "    #Nome do método é __init__ (método construtor)\n",
    "    #(self) é uma referência a cada atributo da própria classe \n",
    "    \n",
    "    def __init__(self):\n",
    "        \n",
    "        #Atributos são propriedades do objeto\n",
    "        self.titulo = 'Data Science do Zero'\n",
    "        self.isbn = 9988888\n",
    "        print(\"Construtor chamado para criar um objeto dessa classe\")\n",
    "        \n",
    "    #Métodos são funções que executam ações nos objetos da classe\n",
    "    def imprime(self):\n",
    "        print(\"Foi criado o livro %s com ISBN %d\" %(self.titulo, self.isbn))"
   ]
  },
  {
   "cell_type": "code",
   "execution_count": 16,
   "id": "41f1e355",
   "metadata": {},
   "outputs": [
    {
     "name": "stdout",
     "output_type": "stream",
     "text": [
      "Construtor chamado para criar um objeto dessa classe\n"
     ]
    }
   ],
   "source": [
    "Livro1 = Livro()\n"
   ]
  },
  {
   "cell_type": "code",
   "execution_count": 17,
   "id": "4737935f",
   "metadata": {},
   "outputs": [
    {
     "data": {
      "text/plain": [
       "__main__.Livro"
      ]
     },
     "execution_count": 17,
     "metadata": {},
     "output_type": "execute_result"
    }
   ],
   "source": [
    "type(Livro1)"
   ]
  },
  {
   "cell_type": "code",
   "execution_count": 18,
   "id": "ed81247a",
   "metadata": {},
   "outputs": [
    {
     "data": {
      "text/plain": [
       "'Data Science do Zero'"
      ]
     },
     "execution_count": 18,
     "metadata": {},
     "output_type": "execute_result"
    }
   ],
   "source": [
    "Livro1.titulo"
   ]
  },
  {
   "cell_type": "code",
   "execution_count": 19,
   "id": "3425919f",
   "metadata": {},
   "outputs": [
    {
     "data": {
      "text/plain": [
       "9988888"
      ]
     },
     "execution_count": 19,
     "metadata": {},
     "output_type": "execute_result"
    }
   ],
   "source": [
    "Livro1.isbn"
   ]
  },
  {
   "cell_type": "code",
   "execution_count": 20,
   "id": "c0825f42",
   "metadata": {},
   "outputs": [
    {
     "name": "stdout",
     "output_type": "stream",
     "text": [
      "Foi criado o livro Data Science do Zero com ISBN 9988888\n"
     ]
    }
   ],
   "source": [
    "Livro1.imprime()"
   ]
  },
  {
   "cell_type": "code",
   "execution_count": 21,
   "id": "bfa4b171",
   "metadata": {},
   "outputs": [],
   "source": [
    "class Livro():\n",
    "    \n",
    "    def __init__(self, titulo, isbn):\n",
    "        self.titulo = titulo\n",
    "        self.isbn = isbn\n",
    "        print(\"Construtor chamado para criar um objeto dessa classe\")\n",
    "        \n",
    "    #Métodos são funções que executam ações nos objetos da classe\n",
    "    def imprime(self, titulo, isbn):\n",
    "        print(\"Foi criado o livro %s com ISBN %d\" %(titulo, isbn))"
   ]
  },
  {
   "cell_type": "code",
   "execution_count": 30,
   "id": "a4d09ef6",
   "metadata": {
    "scrolled": false
   },
   "outputs": [
    {
     "name": "stdout",
     "output_type": "stream",
     "text": [
      "Construtor chamado para criar um objeto dessa classe\n"
     ]
    }
   ],
   "source": [
    "Livro2 = Livro(\"O poder do hábito\", 77886611)"
   ]
  },
  {
   "cell_type": "code",
   "execution_count": 29,
   "id": "09cd59e0",
   "metadata": {},
   "outputs": [
    {
     "name": "stdout",
     "output_type": "stream",
     "text": [
      "Construtor chamado para criar um objeto dessa classe\n"
     ]
    }
   ],
   "source": [
    "Livro2 = Livro(titulo = 'O poder do hábito', isbn =77886611)"
   ]
  },
  {
   "cell_type": "code",
   "execution_count": 25,
   "id": "61e30aec",
   "metadata": {},
   "outputs": [
    {
     "data": {
      "text/plain": [
       "'O poder do hábito'"
      ]
     },
     "execution_count": 25,
     "metadata": {},
     "output_type": "execute_result"
    }
   ],
   "source": [
    "Livro2.titulo"
   ]
  },
  {
   "cell_type": "code",
   "execution_count": 26,
   "id": "a6aa60e1",
   "metadata": {},
   "outputs": [
    {
     "name": "stdout",
     "output_type": "stream",
     "text": [
      "Foi criado o livro O poder do hábito com ISBN 77886611\n"
     ]
    }
   ],
   "source": [
    "Livro2.imprime(\"O poder do hábito\", 77886611)"
   ]
  },
  {
   "cell_type": "code",
   "execution_count": 27,
   "id": "c08b9174",
   "metadata": {},
   "outputs": [],
   "source": [
    "class Algoritmo():\n",
    "    \n",
    "    def __init__(self, tipo_algo):\n",
    "        self.tipo_algo = tipo_algo\n",
    "        print(\"Construtor chamado para criar um objeto dessa classe\")"
   ]
  },
  {
   "cell_type": "code",
   "execution_count": 39,
   "id": "b0c4b0a7",
   "metadata": {},
   "outputs": [
    {
     "name": "stdout",
     "output_type": "stream",
     "text": [
      "Construtor chamado para criar um objeto dessa classe\n"
     ]
    }
   ],
   "source": [
    "algo1 = Algoritmo(tipo_algo = 'Random Forest')"
   ]
  },
  {
   "cell_type": "code",
   "execution_count": 38,
   "id": "003ee388",
   "metadata": {},
   "outputs": [
    {
     "name": "stdout",
     "output_type": "stream",
     "text": [
      "Construtor chamado para criar um objeto dessa classe\n"
     ]
    }
   ],
   "source": [
    "algo2 = Algoritmo(tipo_algo = 'Deep Learning')"
   ]
  },
  {
   "cell_type": "code",
   "execution_count": 40,
   "id": "8de343cc",
   "metadata": {},
   "outputs": [
    {
     "data": {
      "text/plain": [
       "'Random Forest'"
      ]
     },
     "execution_count": 40,
     "metadata": {},
     "output_type": "execute_result"
    }
   ],
   "source": [
    "algo1.tipo_algo"
   ]
  },
  {
   "cell_type": "code",
   "execution_count": 41,
   "id": "1ea4b321",
   "metadata": {},
   "outputs": [
    {
     "data": {
      "text/plain": [
       "'Deep Learning'"
      ]
     },
     "execution_count": 41,
     "metadata": {},
     "output_type": "execute_result"
    }
   ],
   "source": [
    "algo2.tipo_algo"
   ]
  }
 ],
 "metadata": {
  "kernelspec": {
   "display_name": "Python 3 (ipykernel)",
   "language": "python",
   "name": "python3"
  },
  "language_info": {
   "codemirror_mode": {
    "name": "ipython",
    "version": 3
   },
   "file_extension": ".py",
   "mimetype": "text/x-python",
   "name": "python",
   "nbconvert_exporter": "python",
   "pygments_lexer": "ipython3",
   "version": "3.9.13"
  }
 },
 "nbformat": 4,
 "nbformat_minor": 5
}
