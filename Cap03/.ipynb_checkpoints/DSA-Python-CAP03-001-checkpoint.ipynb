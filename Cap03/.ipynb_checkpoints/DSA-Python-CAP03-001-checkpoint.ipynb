{
 "cells": [
  {
   "cell_type": "code",
   "execution_count": 1,
   "id": "aed8ea51",
   "metadata": {},
   "outputs": [
    {
     "name": "stdout",
     "output_type": "stream",
     "text": [
      "Insira o comprimento da base: 5\n",
      "Insira a altura: 5\n",
      "A área do paralelogramo é:  25.0\n"
     ]
    }
   ],
   "source": [
    "base = float(input(\"Insira o comprimento da base: \"))\n",
    "altura = float(input(\"Insira a altura: \"))\n",
    "area = base * altura\n",
    "print(\"A área do paralelogramo é: \", area)\n"
   ]
  },
  {
   "cell_type": "markdown",
   "id": "41b190d6",
   "metadata": {},
   "source": [
    "### Pseudocódigo Calculadora"
   ]
  },
  {
   "cell_type": "markdown",
   "id": "b93cfa60",
   "metadata": {},
   "source": [
    "Inicio \n",
    "    Insira a operação que você deseja realizar\n",
    "    Inserir o primeiro número\n",
    "    Inserir segundo número\n",
    "    Insira os números da operação desejada\n",
    "    Realizar a operação\n",
    "    Imprimir o resultado final\n",
    "Fim"
   ]
  },
  {
   "cell_type": "code",
   "execution_count": 5,
   "id": "3b7f3e51",
   "metadata": {},
   "outputs": [
    {
     "name": "stdout",
     "output_type": "stream",
     "text": [
      "Bem-vindo à calculadora python!\n",
      "Digite o primeiro número: 8\n",
      "Digite o segundo número: 5\n",
      "Selecione uma operação: (+,-,*,/)h\n",
      "Operação inválida. Por favor, tente novamente.\n"
     ]
    }
   ],
   "source": [
    "print(\"Bem-vindo à calculadora python!\")\n",
    "num1 = float(input(\"Digite o primeiro número: \"))\n",
    "num2 = float(input(\"Digite o segundo número: \"))\n",
    "operacao = input(\"Selecione uma operação: (+,-,*,/)\")\n",
    "\n",
    "if operacao == \"+\":\n",
    "    resultado = num1 + num2\n",
    "    print(\"O resultado é: \", resultado)\n",
    "elif operacao == \"-\":\n",
    "    resultado = num1 - num2\n",
    "    print(\"O resultado é: \", resultado)\n",
    "elif operacao == \"*\":\n",
    "    resultado = num1 * num2\n",
    "    print(\"O resultado é: \", resultado)\n",
    "elif operacao == \"/\":\n",
    "    resultado = num1 / num2\n",
    "    print(\"O resultado é: \", resultado)\n",
    "else:\n",
    "    print(\"Operação inválida. Por favor, tente novamente.\")\n"
   ]
  },
  {
   "cell_type": "markdown",
   "id": "13bd68b0",
   "metadata": {},
   "source": [
    "# Pseudocódigo - Algoritmo Bubble Sort"
   ]
  },
  {
   "cell_type": "markdown",
   "id": "a8580c74",
   "metadata": {},
   "source": [
    "Inicie\n",
    "    Para cada elemento i no array de tamnho n\n",
    "        Para cada elemento j no array de tamanho n - 1\n",
    "            Se ele i < j \n",
    "                Troque i e j\n",
    "    Mostre o array ordenado\n",
    "Fim"
   ]
  },
  {
   "cell_type": "code",
   "execution_count": null,
   "id": "bcf2e2aa",
   "metadata": {},
   "outputs": [],
   "source": [
    "lista = [6,3,12,7]"
   ]
  },
  {
   "cell_type": "code",
   "execution_count": 10,
   "id": "0be8e510",
   "metadata": {},
   "outputs": [],
   "source": [
    "lista = [6,7,8,3,10,19,4,1,0,61,30,16,17,82,29,34,43,21,11,29,56,67,12]"
   ]
  },
  {
   "cell_type": "code",
   "execution_count": 11,
   "id": "45d066d7",
   "metadata": {},
   "outputs": [],
   "source": [
    "def bubble_sort(arr): #cria função em python\n",
    "    n = len (arr)\n",
    "    #Para cada elemento i do array\n",
    "    for i in range (n):\n",
    "        #Para cada elemento j do array\n",
    "        for j in range (0,n-i-1):\n",
    "            #Se elemento i for maior que elemento j\n",
    "            if arr[j] > arr [j+1]:\n",
    "                #Troque os elementos\n",
    "                arr[j],arr[j+1] = arr[j+1],arr[j]\n",
    "    return arr"
   ]
  },
  {
   "cell_type": "code",
   "execution_count": 12,
   "id": "ec43ec3d",
   "metadata": {},
   "outputs": [
    {
     "name": "stdout",
     "output_type": "stream",
     "text": [
      "[0, 1, 3, 4, 6, 7, 8, 10, 11, 12, 16, 17, 19, 21, 29, 29, 30, 34, 43, 56, 61, 67, 82]\n"
     ]
    }
   ],
   "source": [
    "print (bubble_sort(lista))"
   ]
  },
  {
   "cell_type": "code",
   "execution_count": null,
   "id": "ba103f42",
   "metadata": {},
   "outputs": [],
   "source": []
  }
 ],
 "metadata": {
  "kernelspec": {
   "display_name": "Python 3 (ipykernel)",
   "language": "python",
   "name": "python3"
  },
  "language_info": {
   "codemirror_mode": {
    "name": "ipython",
    "version": 3
   },
   "file_extension": ".py",
   "mimetype": "text/x-python",
   "name": "python",
   "nbconvert_exporter": "python",
   "pygments_lexer": "ipython3",
   "version": "3.9.13"
  }
 },
 "nbformat": 4,
 "nbformat_minor": 5
}
