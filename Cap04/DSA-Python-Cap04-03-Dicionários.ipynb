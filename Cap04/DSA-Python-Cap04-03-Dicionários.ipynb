{
 "cells": [
  {
   "cell_type": "markdown",
   "id": "0f2ff874",
   "metadata": {},
   "source": [
    "# Dicionários"
   ]
  },
  {
   "cell_type": "code",
   "execution_count": 2,
   "id": "f6d12e79",
   "metadata": {},
   "outputs": [],
   "source": [
    "estudantes_dict[\"Marcelo\"]"
   ]
  },
  {
   "cell_type": "code",
   "execution_count": 3,
   "id": "55924e84",
   "metadata": {},
   "outputs": [
    {
     "data": {
      "text/plain": [
       "{'Pedro': 24, 'Ana': 22, 'Ronaldo': 26, 'Janaina': 25}"
      ]
     },
     "execution_count": 3,
     "metadata": {},
     "output_type": "execute_result"
    }
   ],
   "source": [
    "estudantes_dict"
   ]
  },
  {
   "cell_type": "code",
   "execution_count": 4,
   "id": "cf83f63c",
   "metadata": {},
   "outputs": [
    {
     "data": {
      "text/plain": [
       "24"
      ]
     },
     "execution_count": 4,
     "metadata": {},
     "output_type": "execute_result"
    }
   ],
   "source": [
    "estudantes_dict[\"Pedro\"] #Retorna o valor para aquela chave"
   ]
  },
  {
   "cell_type": "code",
   "execution_count": 5,
   "id": "42bffc42",
   "metadata": {},
   "outputs": [],
   "source": [
    "estudantes_dict[\"Marcelo\"] = 23 #Adicionando um elemento ao dicionário"
   ]
  },
  {
   "cell_type": "code",
   "execution_count": 6,
   "id": "65a253ed",
   "metadata": {},
   "outputs": [
    {
     "data": {
      "text/plain": [
       "23"
      ]
     },
     "execution_count": 6,
     "metadata": {},
     "output_type": "execute_result"
    }
   ],
   "source": [
    "estudantes_dict[\"Marcelo\"]"
   ]
  },
  {
   "cell_type": "code",
   "execution_count": 7,
   "id": "2e5b8342",
   "metadata": {},
   "outputs": [],
   "source": [
    "estudantes_dict.clear()"
   ]
  },
  {
   "cell_type": "code",
   "execution_count": 8,
   "id": "d0563f1f",
   "metadata": {},
   "outputs": [
    {
     "data": {
      "text/plain": [
       "{}"
      ]
     },
     "execution_count": 8,
     "metadata": {},
     "output_type": "execute_result"
    }
   ],
   "source": [
    "estudantes_dict"
   ]
  },
  {
   "cell_type": "code",
   "execution_count": 9,
   "id": "fde6dfb1",
   "metadata": {},
   "outputs": [],
   "source": [
    "del estudantes_dict"
   ]
  },
  {
   "cell_type": "code",
   "execution_count": 10,
   "id": "6ad3a952",
   "metadata": {},
   "outputs": [
    {
     "ename": "NameError",
     "evalue": "name 'estudantes_dict' is not defined",
     "output_type": "error",
     "traceback": [
      "\u001b[1;31m---------------------------------------------------------------------------\u001b[0m",
      "\u001b[1;31mNameError\u001b[0m                                 Traceback (most recent call last)",
      "\u001b[1;32m~\\AppData\\Local\\Temp\\ipykernel_10700\\1634695477.py\u001b[0m in \u001b[0;36m<module>\u001b[1;34m\u001b[0m\n\u001b[1;32m----> 1\u001b[1;33m \u001b[0mestudantes_dict\u001b[0m\u001b[1;33m\u001b[0m\u001b[1;33m\u001b[0m\u001b[0m\n\u001b[0m",
      "\u001b[1;31mNameError\u001b[0m: name 'estudantes_dict' is not defined"
     ]
    }
   ],
   "source": [
    "estudantes_dict"
   ]
  },
  {
   "cell_type": "code",
   "execution_count": 12,
   "id": "595da2d4",
   "metadata": {},
   "outputs": [],
   "source": [
    "estudantes = {\"Pedro\": 24, \"Ana\": 22, \"Ronaldo\": 26, \"Janaina\": 25}"
   ]
  },
  {
   "cell_type": "code",
   "execution_count": 13,
   "id": "17a16ba6",
   "metadata": {},
   "outputs": [
    {
     "data": {
      "text/plain": [
       "{'Pedro': 24, 'Ana': 22, 'Ronaldo': 26, 'Janaina': 25}"
      ]
     },
     "execution_count": 13,
     "metadata": {},
     "output_type": "execute_result"
    }
   ],
   "source": [
    "estudantes"
   ]
  },
  {
   "cell_type": "code",
   "execution_count": 14,
   "id": "b5f6de16",
   "metadata": {},
   "outputs": [
    {
     "data": {
      "text/plain": [
       "4"
      ]
     },
     "execution_count": 14,
     "metadata": {},
     "output_type": "execute_result"
    }
   ],
   "source": [
    "len(estudantes)"
   ]
  },
  {
   "cell_type": "code",
   "execution_count": 15,
   "id": "6b9f2956",
   "metadata": {},
   "outputs": [
    {
     "data": {
      "text/plain": [
       "dict_keys(['Pedro', 'Ana', 'Ronaldo', 'Janaina'])"
      ]
     },
     "execution_count": 15,
     "metadata": {},
     "output_type": "execute_result"
    }
   ],
   "source": [
    "estudantes.keys()"
   ]
  },
  {
   "cell_type": "code",
   "execution_count": 16,
   "id": "4ece5798",
   "metadata": {},
   "outputs": [
    {
     "data": {
      "text/plain": [
       "dict_items([('Pedro', 24), ('Ana', 22), ('Ronaldo', 26), ('Janaina', 25)])"
      ]
     },
     "execution_count": 16,
     "metadata": {},
     "output_type": "execute_result"
    }
   ],
   "source": [
    "estudantes.items()"
   ]
  },
  {
   "cell_type": "code",
   "execution_count": 17,
   "id": "99d0e26d",
   "metadata": {},
   "outputs": [
    {
     "data": {
      "text/plain": [
       "dict_values([24, 22, 26, 25])"
      ]
     },
     "execution_count": 17,
     "metadata": {},
     "output_type": "execute_result"
    }
   ],
   "source": [
    "estudantes.values()"
   ]
  },
  {
   "cell_type": "code",
   "execution_count": 19,
   "id": "fef8f437",
   "metadata": {},
   "outputs": [],
   "source": [
    "estudantes2 = {\"Camila\": 27, \"Adriano\": 28, \"Roberta\": 26}"
   ]
  },
  {
   "cell_type": "code",
   "execution_count": 23,
   "id": "378b8159",
   "metadata": {},
   "outputs": [],
   "source": [
    "estudantes.update(estudantes2) #Atualizando dicionário anterior com o atual"
   ]
  },
  {
   "cell_type": "code",
   "execution_count": 24,
   "id": "4fb334d3",
   "metadata": {},
   "outputs": [
    {
     "data": {
      "text/plain": [
       "{'Pedro': 24,\n",
       " 'Ana': 22,\n",
       " 'Ronaldo': 26,\n",
       " 'Janaina': 25,\n",
       " 'Camila': 27,\n",
       " 'Adriano': 28,\n",
       " 'Roberta': 26}"
      ]
     },
     "execution_count": 24,
     "metadata": {},
     "output_type": "execute_result"
    }
   ],
   "source": [
    "estudantes"
   ]
  },
  {
   "cell_type": "code",
   "execution_count": 28,
   "id": "c4b40d6c",
   "metadata": {},
   "outputs": [],
   "source": [
    "dic1 ={}"
   ]
  },
  {
   "cell_type": "code",
   "execution_count": 29,
   "id": "e6c73244",
   "metadata": {},
   "outputs": [],
   "source": [
    "dic1[\"chave_1\"] = 2"
   ]
  },
  {
   "cell_type": "code",
   "execution_count": 30,
   "id": "a6f9febd",
   "metadata": {},
   "outputs": [],
   "source": [
    "dic1[100]=5"
   ]
  },
  {
   "cell_type": "code",
   "execution_count": 31,
   "id": "d608f008",
   "metadata": {},
   "outputs": [
    {
     "data": {
      "text/plain": [
       "{'chave_1': 2, 100: 5}"
      ]
     },
     "execution_count": 31,
     "metadata": {},
     "output_type": "execute_result"
    }
   ],
   "source": [
    "dic1"
   ]
  },
  {
   "cell_type": "code",
   "execution_count": 35,
   "id": "63e7d4ce",
   "metadata": {},
   "outputs": [],
   "source": [
    "dic1[\"Ana\"] = 8"
   ]
  },
  {
   "cell_type": "code",
   "execution_count": 36,
   "id": "936d74ac",
   "metadata": {},
   "outputs": [],
   "source": [
    "dic1[8,5] = \"Python\""
   ]
  },
  {
   "cell_type": "code",
   "execution_count": 37,
   "id": "6817ff38",
   "metadata": {},
   "outputs": [
    {
     "data": {
      "text/plain": [
       "{'chave_1': 2, 100: 5, 'Ana': 8, (8, 5): 'Python'}"
      ]
     },
     "execution_count": 37,
     "metadata": {},
     "output_type": "execute_result"
    }
   ],
   "source": [
    "dic1"
   ]
  },
  {
   "cell_type": "code",
   "execution_count": 38,
   "id": "db84c0da",
   "metadata": {},
   "outputs": [],
   "source": [
    "dic2 = {}"
   ]
  },
  {
   "cell_type": "code",
   "execution_count": 39,
   "id": "5421dc10",
   "metadata": {},
   "outputs": [],
   "source": [
    "dic2[\"k\"]=1"
   ]
  },
  {
   "cell_type": "code",
   "execution_count": 40,
   "id": "4decb8be",
   "metadata": {},
   "outputs": [],
   "source": [
    "dic2[\"k1\"] =2"
   ]
  },
  {
   "cell_type": "code",
   "execution_count": 41,
   "id": "a0a7dcf5",
   "metadata": {},
   "outputs": [],
   "source": [
    "dic2[\"k2\"] =3"
   ]
  },
  {
   "cell_type": "code",
   "execution_count": 42,
   "id": "706c4e69",
   "metadata": {},
   "outputs": [
    {
     "data": {
      "text/plain": [
       "{'k': 1, 'k1': 2, 'k2': 3}"
      ]
     },
     "execution_count": 42,
     "metadata": {},
     "output_type": "execute_result"
    }
   ],
   "source": [
    "dic2"
   ]
  },
  {
   "cell_type": "code",
   "execution_count": 46,
   "id": "214cc2de",
   "metadata": {},
   "outputs": [],
   "source": [
    "a = dic2[\"k\"]"
   ]
  },
  {
   "cell_type": "code",
   "execution_count": 47,
   "id": "a4c68e87",
   "metadata": {},
   "outputs": [],
   "source": [
    "b = dic2[\"k1\"]"
   ]
  },
  {
   "cell_type": "code",
   "execution_count": 48,
   "id": "e73d45b8",
   "metadata": {},
   "outputs": [],
   "source": [
    "c= dic2[\"k2\"]"
   ]
  },
  {
   "cell_type": "code",
   "execution_count": 49,
   "id": "2c09c1b5",
   "metadata": {
    "scrolled": true
   },
   "outputs": [
    {
     "data": {
      "text/plain": [
       "(1, 2, 3)"
      ]
     },
     "execution_count": 49,
     "metadata": {},
     "output_type": "execute_result"
    }
   ],
   "source": [
    "a,b,c"
   ]
  },
  {
   "cell_type": "code",
   "execution_count": 50,
   "id": "cacc1600",
   "metadata": {},
   "outputs": [],
   "source": [
    "dict3 = {'chave1':1230, 'chave2':[22,453,5,4], 'chave3': ['eu','amo','vc']}"
   ]
  },
  {
   "cell_type": "code",
   "execution_count": 51,
   "id": "7377ff3c",
   "metadata": {},
   "outputs": [
    {
     "data": {
      "text/plain": [
       "{'chave1': 1230, 'chave2': [22, 453, 5, 4], 'chave3': ['eu', 'amo', 'vc']}"
      ]
     },
     "execution_count": 51,
     "metadata": {},
     "output_type": "execute_result"
    }
   ],
   "source": [
    "dict3"
   ]
  },
  {
   "cell_type": "code",
   "execution_count": 52,
   "id": "4f0a1ba3",
   "metadata": {},
   "outputs": [
    {
     "data": {
      "text/plain": [
       "[22, 453, 5, 4]"
      ]
     },
     "execution_count": 52,
     "metadata": {},
     "output_type": "execute_result"
    }
   ],
   "source": [
    "dict3['chave2']"
   ]
  },
  {
   "cell_type": "code",
   "execution_count": 53,
   "id": "59099b1d",
   "metadata": {},
   "outputs": [
    {
     "data": {
      "text/plain": [
       "'EU'"
      ]
     },
     "execution_count": 53,
     "metadata": {},
     "output_type": "execute_result"
    }
   ],
   "source": [
    "dict3['chave3'][0].upper()"
   ]
  },
  {
   "cell_type": "code",
   "execution_count": 54,
   "id": "79a2d37d",
   "metadata": {},
   "outputs": [],
   "source": [
    "var1 = dict3['chave2'][0]-2"
   ]
  },
  {
   "cell_type": "code",
   "execution_count": 55,
   "id": "c85b63b2",
   "metadata": {},
   "outputs": [
    {
     "data": {
      "text/plain": [
       "20"
      ]
     },
     "execution_count": 55,
     "metadata": {},
     "output_type": "execute_result"
    }
   ],
   "source": [
    "var1"
   ]
  },
  {
   "cell_type": "code",
   "execution_count": 57,
   "id": "097afa01",
   "metadata": {},
   "outputs": [],
   "source": [
    "dict3['chave2'][0]-=2 #Subtrai 2 e atribui ao dicionário"
   ]
  },
  {
   "cell_type": "code",
   "execution_count": 58,
   "id": "440401a4",
   "metadata": {},
   "outputs": [
    {
     "data": {
      "text/plain": [
       "{'chave1': 1230, 'chave2': [20, 453, 5, 4], 'chave3': ['eu', 'amo', 'vc']}"
      ]
     },
     "execution_count": 58,
     "metadata": {},
     "output_type": "execute_result"
    }
   ],
   "source": [
    "dict3"
   ]
  }
 ],
 "metadata": {
  "kernelspec": {
   "display_name": "Python 3 (ipykernel)",
   "language": "python",
   "name": "python3"
  },
  "language_info": {
   "codemirror_mode": {
    "name": "ipython",
    "version": 3
   },
   "file_extension": ".py",
   "mimetype": "text/x-python",
   "name": "python",
   "nbconvert_exporter": "python",
   "pygments_lexer": "ipython3",
   "version": "3.9.13"
  }
 },
 "nbformat": 4,
 "nbformat_minor": 5
}
