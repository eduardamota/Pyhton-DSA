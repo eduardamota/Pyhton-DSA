{
 "cells": [
  {
   "cell_type": "code",
   "execution_count": 1,
   "id": "e160a5db",
   "metadata": {},
   "outputs": [
    {
     "name": "stdout",
     "output_type": "stream",
     "text": [
      "Oie\n"
     ]
    }
   ],
   "source": [
    "print('Oie')"
   ]
  },
  {
   "cell_type": "code",
   "execution_count": 7,
   "id": "fcd160dc",
   "metadata": {},
   "outputs": [],
   "source": [
    "def primeiraFun():\n",
    "    print('Python é legal')"
   ]
  },
  {
   "cell_type": "code",
   "execution_count": 8,
   "id": "da9b799f",
   "metadata": {},
   "outputs": [
    {
     "name": "stdout",
     "output_type": "stream",
     "text": [
      "Python é legal\n"
     ]
    }
   ],
   "source": [
    "primeiraFun()"
   ]
  },
  {
   "cell_type": "code",
   "execution_count": 13,
   "id": "57ce666b",
   "metadata": {},
   "outputs": [],
   "source": [
    "def primeiraFun():\n",
    "    nome = 'Bob'\n",
    "    print ('Hello %s'%(nome))"
   ]
  },
  {
   "cell_type": "code",
   "execution_count": 14,
   "id": "01836702",
   "metadata": {},
   "outputs": [
    {
     "name": "stdout",
     "output_type": "stream",
     "text": [
      "Hello Bob\n"
     ]
    }
   ],
   "source": [
    "primeiraFun()"
   ]
  },
  {
   "cell_type": "code",
   "execution_count": 15,
   "id": "731bd541",
   "metadata": {},
   "outputs": [],
   "source": [
    "def segundaFunc(nome):\n",
    "    print('Hello %s'%(nome))"
   ]
  },
  {
   "cell_type": "code",
   "execution_count": 16,
   "id": "e4168a75",
   "metadata": {},
   "outputs": [
    {
     "name": "stdout",
     "output_type": "stream",
     "text": [
      "Hello Aluno\n"
     ]
    }
   ],
   "source": [
    "segundaFunc('Aluno')"
   ]
  },
  {
   "cell_type": "code",
   "execution_count": 19,
   "id": "ec3d1f50",
   "metadata": {},
   "outputs": [],
   "source": [
    "def imprimeNumeros():\n",
    "    for i in range(0,5):\n",
    "        print(\"Número \" + str(i))"
   ]
  },
  {
   "cell_type": "code",
   "execution_count": 20,
   "id": "69d60f3f",
   "metadata": {
    "scrolled": true
   },
   "outputs": [
    {
     "name": "stdout",
     "output_type": "stream",
     "text": [
      "Número 0\n",
      "Número 1\n",
      "Número 2\n",
      "Número 3\n",
      "Número 4\n"
     ]
    }
   ],
   "source": [
    "imprimeNumeros()\n"
   ]
  },
  {
   "cell_type": "code",
   "execution_count": 21,
   "id": "72de54b4",
   "metadata": {},
   "outputs": [],
   "source": [
    "def addNum (first,second):\n",
    "    print(\"Primeiro número: \" + str(first))\n",
    "    print(\"Segundo número: \" + str(second))\n",
    "    print (\"Soma: \", first + second)"
   ]
  },
  {
   "cell_type": "code",
   "execution_count": 22,
   "id": "3b2ce1e7",
   "metadata": {},
   "outputs": [
    {
     "name": "stdout",
     "output_type": "stream",
     "text": [
      "Primeiro número: 3\n",
      "Segundo número: 2\n",
      "Soma:  5\n"
     ]
    }
   ],
   "source": [
    "addNum(3,2)"
   ]
  },
  {
   "cell_type": "code",
   "execution_count": 23,
   "id": "7033a322",
   "metadata": {},
   "outputs": [],
   "source": [
    "#Usado quando não sei o número de argumentos\n",
    "def printVarInfo(arg1, *vartuple):\n",
    "    print(\"Primeiro parâmetro foi: \",arg1)\n",
    "    \n",
    "    for i in vartuple:\n",
    "        print(\"Parâmetro passado foi\", i)\n",
    "    return;"
   ]
  },
  {
   "cell_type": "code",
   "execution_count": 24,
   "id": "c170418d",
   "metadata": {
    "scrolled": true
   },
   "outputs": [
    {
     "name": "stdout",
     "output_type": "stream",
     "text": [
      "Primeiro parâmetro foi:  10\n",
      "Parâmetro passado foi 51\n",
      "Parâmetro passado foi 5814\n",
      "Parâmetro passado foi 66\n"
     ]
    }
   ],
   "source": [
    "printVarInfo(10,51,5814,66)"
   ]
  },
  {
   "cell_type": "code",
   "execution_count": 28,
   "id": "93fcb0d3",
   "metadata": {},
   "outputs": [],
   "source": [
    "var_global = 10 #global\n",
    "def multiplica_numeros (n1,n2):\n",
    "    var_global = n1 * n2 #interna\n",
    "    print(var_global)"
   ]
  },
  {
   "cell_type": "code",
   "execution_count": 29,
   "id": "dc142573",
   "metadata": {},
   "outputs": [
    {
     "name": "stdout",
     "output_type": "stream",
     "text": [
      "6\n"
     ]
    }
   ],
   "source": [
    "multiplica_numeros (3,2)"
   ]
  },
  {
   "cell_type": "code",
   "execution_count": 30,
   "id": "fbb62b61",
   "metadata": {},
   "outputs": [
    {
     "name": "stdout",
     "output_type": "stream",
     "text": [
      "10\n"
     ]
    }
   ],
   "source": [
    "print(var_global)"
   ]
  },
  {
   "cell_type": "markdown",
   "id": "d71f08f3",
   "metadata": {},
   "source": [
    "# Criando Funções Usando Outras Funções"
   ]
  },
  {
   "cell_type": "code",
   "execution_count": 31,
   "id": "001c7857",
   "metadata": {},
   "outputs": [],
   "source": [
    "import math \n",
    "\n",
    "#verificando se um número é primo \n",
    "def numprimo(num):\n",
    "    if(num%2) ==0 and num > 2:\n",
    "        return \"Este número não é primo\"\n",
    "    for i in range(3,int(math.sqrt(num))+1,2):\n",
    "        if (num%i) ==0:\n",
    "            return \"Este número não é primo\"\n",
    "        return \"É primo\""
   ]
  },
  {
   "cell_type": "code",
   "execution_count": 37,
   "id": "3f8226a8",
   "metadata": {},
   "outputs": [],
   "source": [
    "numprimo(2)"
   ]
  },
  {
   "cell_type": "code",
   "execution_count": 38,
   "id": "be5607e7",
   "metadata": {},
   "outputs": [
    {
     "data": {
      "text/plain": [
       "'Este número não é primo'"
      ]
     },
     "execution_count": 38,
     "metadata": {},
     "output_type": "execute_result"
    }
   ],
   "source": [
    "numprimo(870)"
   ]
  },
  {
   "cell_type": "code",
   "execution_count": 39,
   "id": "27b343fa",
   "metadata": {},
   "outputs": [],
   "source": [
    "caixa_baixa = \"Este Texto Deveria Estar Em LowerCase\""
   ]
  },
  {
   "cell_type": "code",
   "execution_count": 40,
   "id": "3ba03fca",
   "metadata": {},
   "outputs": [],
   "source": [
    "def lowercase(text):\n",
    "    return text.lower()"
   ]
  },
  {
   "cell_type": "code",
   "execution_count": 43,
   "id": "7bedabad",
   "metadata": {},
   "outputs": [],
   "source": [
    "lowercased_string = lowercase(caixa_baixa)"
   ]
  },
  {
   "cell_type": "code",
   "execution_count": 44,
   "id": "99f51ce9",
   "metadata": {},
   "outputs": [
    {
     "data": {
      "text/plain": [
       "'este texto deveria estar em lowercase'"
      ]
     },
     "execution_count": 44,
     "metadata": {},
     "output_type": "execute_result"
    }
   ],
   "source": [
    "lowercased_string"
   ]
  },
  {
   "cell_type": "markdown",
   "id": "7e1d4909",
   "metadata": {},
   "source": [
    "# Split dos Dados"
   ]
  },
  {
   "cell_type": "code",
   "execution_count": 45,
   "id": "004fa2c3",
   "metadata": {},
   "outputs": [],
   "source": [
    "#Split dos dados\n",
    "def split_string_palavras(text):\n",
    "    return text.split(\" \")"
   ]
  },
  {
   "cell_type": "code",
   "execution_count": 46,
   "id": "38225557",
   "metadata": {},
   "outputs": [],
   "source": [
    "texto = \"Esta função será bastante útil para separar grandes volumes de dados\""
   ]
  },
  {
   "cell_type": "code",
   "execution_count": 47,
   "id": "539f01cd",
   "metadata": {},
   "outputs": [
    {
     "name": "stdout",
     "output_type": "stream",
     "text": [
      "['Esta', 'função', 'será', 'bastante', 'útil', 'para', 'separar', 'grandes', 'volumes', 'de', 'dados']\n"
     ]
    }
   ],
   "source": [
    "print(split_string_palavras(texto))"
   ]
  },
  {
   "cell_type": "code",
   "execution_count": 48,
   "id": "98cc3888",
   "metadata": {},
   "outputs": [],
   "source": [
    "token = split_string_palavras(texto)"
   ]
  },
  {
   "cell_type": "code",
   "execution_count": 49,
   "id": "3d54b844",
   "metadata": {},
   "outputs": [
    {
     "data": {
      "text/plain": [
       "['Esta',\n",
       " 'função',\n",
       " 'será',\n",
       " 'bastante',\n",
       " 'útil',\n",
       " 'para',\n",
       " 'separar',\n",
       " 'grandes',\n",
       " 'volumes',\n",
       " 'de',\n",
       " 'dados']"
      ]
     },
     "execution_count": 49,
     "metadata": {},
     "output_type": "execute_result"
    }
   ],
   "source": [
    "token"
   ]
  },
  {
   "cell_type": "code",
   "execution_count": 51,
   "id": "9046b0df",
   "metadata": {},
   "outputs": [],
   "source": [
    "def split_string_letras(text):\n",
    "    texto = text.upper()\n",
    "    for letra in texto:\n",
    "        print(letra)"
   ]
  },
  {
   "cell_type": "code",
   "execution_count": 52,
   "id": "32183691",
   "metadata": {},
   "outputs": [
    {
     "name": "stdout",
     "output_type": "stream",
     "text": [
      "E\n",
      "S\n",
      "T\n",
      "A\n",
      " \n",
      "F\n",
      "U\n",
      "N\n",
      "Ç\n",
      "Ã\n",
      "O\n",
      " \n",
      "S\n",
      "E\n",
      "R\n",
      "Á\n",
      " \n",
      "B\n",
      "A\n",
      "S\n",
      "T\n",
      "A\n",
      "N\n",
      "T\n",
      "E\n",
      " \n",
      "Ú\n",
      "T\n",
      "I\n",
      "L\n",
      " \n",
      "P\n",
      "A\n",
      "R\n",
      "A\n",
      " \n",
      "S\n",
      "E\n",
      "P\n",
      "A\n",
      "R\n",
      "A\n",
      "R\n",
      " \n",
      "G\n",
      "R\n",
      "A\n",
      "N\n",
      "D\n",
      "E\n",
      "S\n",
      " \n",
      "V\n",
      "O\n",
      "L\n",
      "U\n",
      "M\n",
      "E\n",
      "S\n",
      " \n",
      "D\n",
      "E\n",
      " \n",
      "D\n",
      "A\n",
      "D\n",
      "O\n",
      "S\n"
     ]
    }
   ],
   "source": [
    "split_string_letras(texto)"
   ]
  }
 ],
 "metadata": {
  "kernelspec": {
   "display_name": "Python 3 (ipykernel)",
   "language": "python",
   "name": "python3"
  },
  "language_info": {
   "codemirror_mode": {
    "name": "ipython",
    "version": 3
   },
   "file_extension": ".py",
   "mimetype": "text/x-python",
   "name": "python",
   "nbconvert_exporter": "python",
   "pygments_lexer": "ipython3",
   "version": "3.9.13"
  }
 },
 "nbformat": 4,
 "nbformat_minor": 5
}
