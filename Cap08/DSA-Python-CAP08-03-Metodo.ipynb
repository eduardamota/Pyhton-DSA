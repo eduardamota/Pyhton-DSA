{
 "cells": [
  {
   "cell_type": "code",
   "execution_count": 1,
   "id": "e2ba6072",
   "metadata": {},
   "outputs": [],
   "source": [
    "class Circulo():\n",
    "    \n",
    "    pi = 3.4 #o valor de pi é cosntante\n",
    "    \n",
    "    def __init__ (self, raio =5):\n",
    "        self.raio = raio\n",
    "        \n",
    "    def area(self):\n",
    "        return (self.raio * self.raio) * Circulo.pi\n",
    "    \n",
    "    def setRaio(self,novo_raio):\n",
    "        self.raio = novo_raio\n",
    "    \n",
    "    def getRaio(self):\n",
    "        return self.raio"
   ]
  },
  {
   "cell_type": "code",
   "execution_count": 2,
   "id": "bff638eb",
   "metadata": {},
   "outputs": [],
   "source": [
    "circ = Circulo ()"
   ]
  },
  {
   "cell_type": "code",
   "execution_count": 4,
   "id": "fef77216",
   "metadata": {},
   "outputs": [
    {
     "data": {
      "text/plain": [
       "5"
      ]
     },
     "execution_count": 4,
     "metadata": {},
     "output_type": "execute_result"
    }
   ],
   "source": [
    "circ.getRaio()"
   ]
  },
  {
   "cell_type": "code",
   "execution_count": 5,
   "id": "e23e1221",
   "metadata": {},
   "outputs": [],
   "source": [
    "circ1 = Circulo(7)"
   ]
  },
  {
   "cell_type": "code",
   "execution_count": 6,
   "id": "1b40d797",
   "metadata": {},
   "outputs": [
    {
     "data": {
      "text/plain": [
       "7"
      ]
     },
     "execution_count": 6,
     "metadata": {},
     "output_type": "execute_result"
    }
   ],
   "source": [
    "circ1.getRaio()"
   ]
  },
  {
   "cell_type": "code",
   "execution_count": 7,
   "id": "4a48e9ff",
   "metadata": {},
   "outputs": [
    {
     "name": "stdout",
     "output_type": "stream",
     "text": [
      "O raio é:  5\n"
     ]
    }
   ],
   "source": [
    "print('O raio é: ',circ.getRaio())"
   ]
  },
  {
   "cell_type": "code",
   "execution_count": 10,
   "id": "3fc2eb7b",
   "metadata": {},
   "outputs": [
    {
     "name": "stdout",
     "output_type": "stream",
     "text": [
      "O Area é:  85.0\n"
     ]
    }
   ],
   "source": [
    "print('O Area é: ',circ.area())"
   ]
  },
  {
   "cell_type": "code",
   "execution_count": 11,
   "id": "b69b6a0f",
   "metadata": {},
   "outputs": [],
   "source": [
    "circ.setRaio(3)"
   ]
  },
  {
   "cell_type": "code",
   "execution_count": 12,
   "id": "5b60dfa7",
   "metadata": {},
   "outputs": [
    {
     "data": {
      "text/plain": [
       "3"
      ]
     },
     "execution_count": 12,
     "metadata": {},
     "output_type": "execute_result"
    }
   ],
   "source": [
    "circ.getRaio()"
   ]
  }
 ],
 "metadata": {
  "kernelspec": {
   "display_name": "Python 3 (ipykernel)",
   "language": "python",
   "name": "python3"
  },
  "language_info": {
   "codemirror_mode": {
    "name": "ipython",
    "version": 3
   },
   "file_extension": ".py",
   "mimetype": "text/x-python",
   "name": "python",
   "nbconvert_exporter": "python",
   "pygments_lexer": "ipython3",
   "version": "3.9.13"
  }
 },
 "nbformat": 4,
 "nbformat_minor": 5
}
