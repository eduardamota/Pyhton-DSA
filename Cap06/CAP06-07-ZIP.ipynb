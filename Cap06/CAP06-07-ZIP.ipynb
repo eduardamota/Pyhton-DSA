{
 "cells": [
  {
   "cell_type": "markdown",
   "id": "e8a13d88",
   "metadata": {},
   "source": [
    "## Função ZIP\n",
    "É uma função que agrupa elementos de múltiplas estruturas de dados"
   ]
  },
  {
   "cell_type": "code",
   "execution_count": 1,
   "id": "d5b26ea6",
   "metadata": {},
   "outputs": [],
   "source": [
    "x = [1,2,3]\n",
    "y= [4,5,6]"
   ]
  },
  {
   "cell_type": "code",
   "execution_count": 2,
   "id": "6d6676fe",
   "metadata": {},
   "outputs": [
    {
     "data": {
      "text/plain": [
       "<zip at 0x239c2635340>"
      ]
     },
     "execution_count": 2,
     "metadata": {},
     "output_type": "execute_result"
    }
   ],
   "source": [
    "zip(x,y)"
   ]
  },
  {
   "cell_type": "code",
   "execution_count": 3,
   "id": "3d8ab8a1",
   "metadata": {},
   "outputs": [
    {
     "data": {
      "text/plain": [
       "[(1, 4), (2, 5), (3, 6)]"
      ]
     },
     "execution_count": 3,
     "metadata": {},
     "output_type": "execute_result"
    }
   ],
   "source": [
    "list(zip(x,y))"
   ]
  },
  {
   "cell_type": "code",
   "execution_count": 4,
   "id": "8d81cf6c",
   "metadata": {},
   "outputs": [
    {
     "data": {
      "text/plain": [
       "[('A', 'x'), ('B', 'y')]"
      ]
     },
     "execution_count": 4,
     "metadata": {},
     "output_type": "execute_result"
    }
   ],
   "source": [
    "list(zip('ABC','xy'))"
   ]
  },
  {
   "cell_type": "code",
   "execution_count": 2,
   "id": "3aa4933f",
   "metadata": {},
   "outputs": [],
   "source": [
    "a =[1,2,3]\n",
    "b=[4,5,6,7,8]"
   ]
  },
  {
   "cell_type": "code",
   "execution_count": 3,
   "id": "d04b7fe3",
   "metadata": {},
   "outputs": [
    {
     "data": {
      "text/plain": [
       "[(1, 4), (2, 5), (3, 6)]"
      ]
     },
     "execution_count": 3,
     "metadata": {},
     "output_type": "execute_result"
    }
   ],
   "source": [
    "list(zip(a,b))"
   ]
  },
  {
   "cell_type": "code",
   "execution_count": 4,
   "id": "1d09c293",
   "metadata": {},
   "outputs": [],
   "source": [
    "d1= {'a':1,'b':2}\n",
    "d2= {'c':4,'d':5}"
   ]
  },
  {
   "cell_type": "code",
   "execution_count": 5,
   "id": "e8ab3d00",
   "metadata": {},
   "outputs": [
    {
     "data": {
      "text/plain": [
       "[('a', 'c'), ('b', 'd')]"
      ]
     },
     "execution_count": 5,
     "metadata": {},
     "output_type": "execute_result"
    }
   ],
   "source": [
    "list(zip(d1,d2))"
   ]
  },
  {
   "cell_type": "code",
   "execution_count": 6,
   "id": "26aaf4a5",
   "metadata": {},
   "outputs": [
    {
     "data": {
      "text/plain": [
       "[('a', 4), ('b', 5)]"
      ]
     },
     "execution_count": 6,
     "metadata": {},
     "output_type": "execute_result"
    }
   ],
   "source": [
    "list(zip(d1,d2.values()))"
   ]
  },
  {
   "cell_type": "code",
   "execution_count": 18,
   "id": "45bae381",
   "metadata": {},
   "outputs": [],
   "source": [
    "def trocaValores(d1,d2):\n",
    "    dicTemp ={}\n",
    "    \n",
    "    for d1key,d2val in zip(d1,d2.values()):\n",
    "        dicTemp[d1key]= d2val\n",
    "        \n",
    "    return dicTemp"
   ]
  },
  {
   "cell_type": "code",
   "execution_count": 19,
   "id": "c903baa2",
   "metadata": {},
   "outputs": [
    {
     "data": {
      "text/plain": [
       "{'a': 4, 'b': 5}"
      ]
     },
     "execution_count": 19,
     "metadata": {},
     "output_type": "execute_result"
    }
   ],
   "source": [
    "trocaValores(d1 ,d2)"
   ]
  }
 ],
 "metadata": {
  "kernelspec": {
   "display_name": "Python 3 (ipykernel)",
   "language": "python",
   "name": "python3"
  },
  "language_info": {
   "codemirror_mode": {
    "name": "ipython",
    "version": 3
   },
   "file_extension": ".py",
   "mimetype": "text/x-python",
   "name": "python",
   "nbconvert_exporter": "python",
   "pygments_lexer": "ipython3",
   "version": "3.9.13"
  }
 },
 "nbformat": 4,
 "nbformat_minor": 5
}
