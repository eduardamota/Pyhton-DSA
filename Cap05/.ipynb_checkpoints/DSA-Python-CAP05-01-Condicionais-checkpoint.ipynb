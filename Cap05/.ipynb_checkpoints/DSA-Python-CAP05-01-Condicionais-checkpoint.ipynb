{
 "cells": [
  {
   "cell_type": "markdown",
   "id": "c6daed58",
   "metadata": {},
   "source": [
    "# Condicional IF"
   ]
  },
  {
   "cell_type": "code",
   "execution_count": 1,
   "id": "6ec5b3e0",
   "metadata": {},
   "outputs": [
    {
     "name": "stdout",
     "output_type": "stream",
     "text": [
      "A sentença é falsa\n"
     ]
    }
   ],
   "source": [
    "if 5 < 2:\n",
    "    print(\"A sentença é verdadeira\")\n",
    "else:\n",
    "    print(\"A sentença é falsa\")"
   ]
  },
  {
   "cell_type": "code",
   "execution_count": 3,
   "id": "c6c0b5f5",
   "metadata": {},
   "outputs": [
    {
     "name": "stdout",
     "output_type": "stream",
     "text": [
      "Chuva\n"
     ]
    }
   ],
   "source": [
    "dia = \"Terça\"\n",
    "if dia == \"Segunda\":\n",
    "    print(\"Sol\")\n",
    "else:\n",
    "    print(\"Chuva\")"
   ]
  },
  {
   "cell_type": "code",
   "execution_count": 4,
   "id": "eeb0be45",
   "metadata": {},
   "outputs": [
    {
     "name": "stdout",
     "output_type": "stream",
     "text": [
      "Chuva\n"
     ]
    }
   ],
   "source": [
    "if dia == \"Segunda\":\n",
    "    print (\"Hoje fará sol\")\n",
    "elif dia == \"Terça\":\n",
    "    print(\"Chuva\")\n",
    "else:\n",
    "    print(\"Sem previsão\")"
   ]
  },
  {
   "cell_type": "markdown",
   "id": "8c7b1336",
   "metadata": {},
   "source": [
    "# Operadores Relacionais\n"
   ]
  },
  {
   "cell_type": "code",
   "execution_count": 5,
   "id": "708b39ca",
   "metadata": {},
   "outputs": [
    {
     "data": {
      "text/plain": [
       "True"
      ]
     },
     "execution_count": 5,
     "metadata": {},
     "output_type": "execute_result"
    }
   ],
   "source": [
    "6>3"
   ]
  },
  {
   "cell_type": "code",
   "execution_count": 6,
   "id": "00951509",
   "metadata": {},
   "outputs": [
    {
     "data": {
      "text/plain": [
       "False"
      ]
     },
     "execution_count": 6,
     "metadata": {},
     "output_type": "execute_result"
    }
   ],
   "source": [
    "3>7"
   ]
  },
  {
   "cell_type": "code",
   "execution_count": 7,
   "id": "28eb273d",
   "metadata": {},
   "outputs": [
    {
     "data": {
      "text/plain": [
       "True"
      ]
     },
     "execution_count": 7,
     "metadata": {},
     "output_type": "execute_result"
    }
   ],
   "source": [
    "4<8"
   ]
  },
  {
   "cell_type": "code",
   "execution_count": 8,
   "id": "62d70b27",
   "metadata": {},
   "outputs": [
    {
     "data": {
      "text/plain": [
       "True"
      ]
     },
     "execution_count": 8,
     "metadata": {},
     "output_type": "execute_result"
    }
   ],
   "source": [
    "4>=4"
   ]
  },
  {
   "cell_type": "code",
   "execution_count": 9,
   "id": "b53e9bd7",
   "metadata": {
    "scrolled": true
   },
   "outputs": [
    {
     "name": "stdout",
     "output_type": "stream",
     "text": [
      "Funciona\n"
     ]
    }
   ],
   "source": [
    "if 4>3:\n",
    "    print(\"Funciona\")"
   ]
  },
  {
   "cell_type": "markdown",
   "id": "0b47cf64",
   "metadata": {},
   "source": [
    "# Condicionais Aninhados"
   ]
  },
  {
   "cell_type": "code",
   "execution_count": 10,
   "id": "f84e3cda",
   "metadata": {},
   "outputs": [
    {
     "name": "stdout",
     "output_type": "stream",
     "text": [
      "Pode dirigir\n"
     ]
    }
   ],
   "source": [
    "idade = 18\n",
    "if idade >17:\n",
    "    print(\"Pode dirigir\")"
   ]
  },
  {
   "cell_type": "code",
   "execution_count": 11,
   "id": "aab4fb26",
   "metadata": {},
   "outputs": [
    {
     "name": "stdout",
     "output_type": "stream",
     "text": [
      "Pode entrar\n"
     ]
    }
   ],
   "source": [
    "Nome = \"Bob\"\n",
    "if idade >13:\n",
    "    if Nome == \"Bob\":\n",
    "        print(\"Pode entrar\")\n",
    "    else:\n",
    "        print(\"Não pode\")"
   ]
  },
  {
   "cell_type": "code",
   "execution_count": 12,
   "id": "2b347694",
   "metadata": {},
   "outputs": [
    {
     "name": "stdout",
     "output_type": "stream",
     "text": [
      "Autorizado\n"
     ]
    }
   ],
   "source": [
    "idade = 13\n",
    "Nome = \"Bob\"\n",
    "if idade>= 13 and Nome == \"Bob\":\n",
    "    print(\"Autorizado\")"
   ]
  },
  {
   "cell_type": "code",
   "execution_count": 13,
   "id": "e149a9b9",
   "metadata": {},
   "outputs": [
    {
     "name": "stdout",
     "output_type": "stream",
     "text": [
      "Autorizado\n"
     ]
    }
   ],
   "source": [
    "idade = 13\n",
    "Nome = \"Bob\"\n",
    "if idade>= 13 or Nome == \"Bob\":\n",
    "    print(\"Autorizado\")"
   ]
  },
  {
   "cell_type": "markdown",
   "id": "e2f5d00f",
   "metadata": {},
   "source": [
    "# Operadores"
   ]
  },
  {
   "cell_type": "code",
   "execution_count": 16,
   "id": "ea569c83",
   "metadata": {},
   "outputs": [
    {
     "name": "stdout",
     "output_type": "stream",
     "text": [
      "Sim\n"
     ]
    }
   ],
   "source": [
    "numero =4\n",
    "if (not(numero>5) and (numero%2 ==0)) or (numero ==4):\n",
    "    print(\"Sim\")"
   ]
  },
  {
   "cell_type": "code",
   "execution_count": 17,
   "id": "5918b983",
   "metadata": {},
   "outputs": [
    {
     "name": "stdout",
     "output_type": "stream",
     "text": [
      "Você foi aprovado!\n"
     ]
    }
   ],
   "source": [
    "disciplina = \"Data Science\"\n",
    "nota_final = 70\n",
    "if disciplina == 'Data Science' and nota_final >=70:\n",
    "    print ('Você foi aprovado!')\n",
    "else:\n",
    "    print('Reprovado')"
   ]
  },
  {
   "cell_type": "code",
   "execution_count": 19,
   "id": "5fd6ad7b",
   "metadata": {},
   "outputs": [
    {
     "name": "stdout",
     "output_type": "stream",
     "text": [
      "Você foi aprovado em Data Science com média final 90! \n"
     ]
    }
   ],
   "source": [
    "#Place holders chamam as variáveis %s chama a string e %r a número\n",
    "disciplina = 'Data Science'\n",
    "nota_final = 90\n",
    "semestre = 2\n",
    "\n",
    "if disciplina == 'Data Science' and nota_final>=80 and semestre != 1:\n",
    "    print('Você foi aprovado em %s com média final %r! ' %(disciplina,nota_final))\n",
    "else:\n",
    "    print ('Reprovado!')"
   ]
  }
 ],
 "metadata": {
  "kernelspec": {
   "display_name": "Python 3 (ipykernel)",
   "language": "python",
   "name": "python3"
  },
  "language_info": {
   "codemirror_mode": {
    "name": "ipython",
    "version": 3
   },
   "file_extension": ".py",
   "mimetype": "text/x-python",
   "name": "python",
   "nbconvert_exporter": "python",
   "pygments_lexer": "ipython3",
   "version": "3.9.13"
  }
 },
 "nbformat": 4,
 "nbformat_minor": 5
}
