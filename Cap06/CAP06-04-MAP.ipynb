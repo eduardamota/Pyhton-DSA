{
 "cells": [
  {
   "cell_type": "markdown",
   "id": "baa87901",
   "metadata": {},
   "source": [
    "# Função Map\n",
    "Aplica uma determinada função a cada elemento de uma estrutura de dados"
   ]
  },
  {
   "cell_type": "code",
   "execution_count": 11,
   "id": "ca4c30b7",
   "metadata": {},
   "outputs": [],
   "source": [
    "def potencia(x):\n",
    "    return x**2"
   ]
  },
  {
   "cell_type": "code",
   "execution_count": 12,
   "id": "14e244fb",
   "metadata": {},
   "outputs": [],
   "source": [
    "numeros = [1,2,3,4,5]"
   ]
  },
  {
   "cell_type": "code",
   "execution_count": 13,
   "id": "8f2da1b0",
   "metadata": {},
   "outputs": [],
   "source": [
    "numeros_quadrado = list(map(potencia, numeros))"
   ]
  },
  {
   "cell_type": "code",
   "execution_count": 14,
   "id": "1b9d630c",
   "metadata": {},
   "outputs": [
    {
     "name": "stdout",
     "output_type": "stream",
     "text": [
      "[1, 4, 9, 16, 25]\n"
     ]
    }
   ],
   "source": [
    "print(numeros_quadrado)"
   ]
  },
  {
   "cell_type": "code",
   "execution_count": 17,
   "id": "ef93e703",
   "metadata": {},
   "outputs": [],
   "source": [
    "#Função 1 - Recebe uma temperatura como parâmetro e retorna a temperatura em Fahrenheit\n",
    "def fahrenheit(T):\n",
    "    return ((float(9)/(5)*T) + 32)\n",
    "\n",
    "#Função 2 - Recebe uma temperatura como parâmetro e retorna a temperatura em Celsius\n",
    "def celsius(T):\n",
    "    return ((float(5)/(9)) * (T - 32))\n"
   ]
  },
  {
   "cell_type": "code",
   "execution_count": 21,
   "id": "d3331975",
   "metadata": {},
   "outputs": [],
   "source": [
    "temperatura = [32,20,5,8,0]"
   ]
  },
  {
   "cell_type": "code",
   "execution_count": 24,
   "id": "307b697a",
   "metadata": {},
   "outputs": [],
   "source": [
    "temp_f = list(map(fahrenheit,temperatura))"
   ]
  },
  {
   "cell_type": "code",
   "execution_count": 25,
   "id": "529e2ff8",
   "metadata": {},
   "outputs": [
    {
     "name": "stdout",
     "output_type": "stream",
     "text": [
      "[89.6, 68.0, 41.0, 46.4, 32.0]\n"
     ]
    }
   ],
   "source": [
    "print(temp_f )"
   ]
  },
  {
   "cell_type": "code",
   "execution_count": 26,
   "id": "0256d8e5",
   "metadata": {},
   "outputs": [
    {
     "name": "stdout",
     "output_type": "stream",
     "text": [
      "89.6\n",
      "68.0\n",
      "41.0\n",
      "46.4\n",
      "32.0\n"
     ]
    }
   ],
   "source": [
    "for temp in map(fahrenheit,temperatura):\n",
    "    print(temp)"
   ]
  },
  {
   "cell_type": "code",
   "execution_count": 29,
   "id": "1a75156c",
   "metadata": {},
   "outputs": [
    {
     "data": {
      "text/plain": [
       "<map at 0x25c9c0a9280>"
      ]
     },
     "execution_count": 29,
     "metadata": {},
     "output_type": "execute_result"
    }
   ],
   "source": [
    "map(lambda x:(5.0/9)*(x-32),temperatura)"
   ]
  },
  {
   "cell_type": "code",
   "execution_count": 30,
   "id": "cb4d3c59",
   "metadata": {
    "scrolled": true
   },
   "outputs": [
    {
     "data": {
      "text/plain": [
       "[0.0, -6.666666666666667, -15.0, -13.333333333333334, -17.77777777777778]"
      ]
     },
     "execution_count": 30,
     "metadata": {},
     "output_type": "execute_result"
    }
   ],
   "source": [
    "list(map(lambda x:(5.0/9)*(x-32),temperatura))"
   ]
  },
  {
   "cell_type": "code",
   "execution_count": 31,
   "id": "c0ab6248",
   "metadata": {},
   "outputs": [],
   "source": [
    "a= [1,2,3,4]\n",
    "b=[5,6,7,8]\n",
    "c=[9,10,11,12]"
   ]
  },
  {
   "cell_type": "code",
   "execution_count": 33,
   "id": "2eae84b1",
   "metadata": {},
   "outputs": [
    {
     "data": {
      "text/plain": [
       "[15, 18, 21, 24]"
      ]
     },
     "execution_count": 33,
     "metadata": {},
     "output_type": "execute_result"
    }
   ],
   "source": [
    "list(map(lambda x,y,z:x+y+z,a,b,c))"
   ]
  }
 ],
 "metadata": {
  "kernelspec": {
   "display_name": "Python 3 (ipykernel)",
   "language": "python",
   "name": "python3"
  },
  "language_info": {
   "codemirror_mode": {
    "name": "ipython",
    "version": 3
   },
   "file_extension": ".py",
   "mimetype": "text/x-python",
   "name": "python",
   "nbconvert_exporter": "python",
   "pygments_lexer": "ipython3",
   "version": "3.9.13"
  }
 },
 "nbformat": 4,
 "nbformat_minor": 5
}
