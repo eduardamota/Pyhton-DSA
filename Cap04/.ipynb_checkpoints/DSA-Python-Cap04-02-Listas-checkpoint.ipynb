{
 "cells": [
  {
   "cell_type": "markdown",
   "id": "86bc932d",
   "metadata": {},
   "source": [
    "# Listas"
   ]
  },
  {
   "cell_type": "code",
   "execution_count": 7,
   "id": "17dd8ed0",
   "metadata": {},
   "outputs": [],
   "source": [
    "#Criando uma lista de strings\n",
    "list_1 = [\"arroz\",\"frango\",\"tomate\",\"leite\"]"
   ]
  },
  {
   "cell_type": "code",
   "execution_count": 12,
   "id": "2346b943",
   "metadata": {},
   "outputs": [
    {
     "name": "stdout",
     "output_type": "stream",
     "text": [
      "['arroz', 'frango', 'tomate', 'leite']\n"
     ]
    }
   ],
   "source": [
    "print(list_1)"
   ]
  },
  {
   "cell_type": "code",
   "execution_count": 6,
   "id": "c47844f0",
   "metadata": {
    "scrolled": true
   },
   "outputs": [
    {
     "data": {
      "text/plain": [
       "list"
      ]
     },
     "execution_count": 6,
     "metadata": {},
     "output_type": "execute_result"
    }
   ],
   "source": [
    "type(list_1)"
   ]
  },
  {
   "cell_type": "code",
   "execution_count": 24,
   "id": "8ba60a8d",
   "metadata": {},
   "outputs": [],
   "source": [
    "#Criando lista como sting\n",
    "list_2 = [\"arroz, frango, tomate, leite\"]"
   ]
  },
  {
   "cell_type": "code",
   "execution_count": 25,
   "id": "920d114c",
   "metadata": {},
   "outputs": [
    {
     "name": "stdout",
     "output_type": "stream",
     "text": [
      "['arroz, frango, tomate, leite']\n"
     ]
    }
   ],
   "source": [
    "print(list_2)"
   ]
  },
  {
   "cell_type": "code",
   "execution_count": 11,
   "id": "beedeb3c",
   "metadata": {},
   "outputs": [
    {
     "data": {
      "text/plain": [
       "list"
      ]
     },
     "execution_count": 11,
     "metadata": {},
     "output_type": "execute_result"
    }
   ],
   "source": [
    "type(list_2)"
   ]
  },
  {
   "cell_type": "code",
   "execution_count": 16,
   "id": "bb7ecb97",
   "metadata": {},
   "outputs": [],
   "source": [
    "list_3 = [23, 100, \"Cientista de Dados\"]"
   ]
  },
  {
   "cell_type": "code",
   "execution_count": 17,
   "id": "011370f7",
   "metadata": {},
   "outputs": [
    {
     "data": {
      "text/plain": [
       "list"
      ]
     },
     "execution_count": 17,
     "metadata": {},
     "output_type": "execute_result"
    }
   ],
   "source": [
    "type(list_3)"
   ]
  },
  {
   "cell_type": "code",
   "execution_count": 18,
   "id": "33d04a97",
   "metadata": {},
   "outputs": [
    {
     "name": "stdout",
     "output_type": "stream",
     "text": [
      "[23, 100, 'Cientista de Dados']\n"
     ]
    }
   ],
   "source": [
    "print(list_3)"
   ]
  },
  {
   "cell_type": "code",
   "execution_count": 19,
   "id": "6f567883",
   "metadata": {},
   "outputs": [],
   "source": [
    "#Atribuindo cada valor da lista a uma variável\n",
    "item1 = list_3[0]\n",
    "item2 = list_3[1]\n",
    "item3 = list_3[2]"
   ]
  },
  {
   "cell_type": "code",
   "execution_count": 20,
   "id": "b87c7bb2",
   "metadata": {},
   "outputs": [
    {
     "name": "stdout",
     "output_type": "stream",
     "text": [
      "23 100 Cientista de Dados\n"
     ]
    }
   ],
   "source": [
    "print(item1, item2, item3)"
   ]
  },
  {
   "cell_type": "markdown",
   "id": "18d41cf8",
   "metadata": {},
   "source": [
    "# Atualizando dados de uma lista"
   ]
  },
  {
   "cell_type": "code",
   "execution_count": 28,
   "id": "5a25b483",
   "metadata": {},
   "outputs": [
    {
     "data": {
      "text/plain": [
       "['arroz', 'frango', 'tomate', 'leite']"
      ]
     },
     "execution_count": 28,
     "metadata": {},
     "output_type": "execute_result"
    }
   ],
   "source": [
    "list_1"
   ]
  },
  {
   "cell_type": "code",
   "execution_count": 27,
   "id": "5efda6f9",
   "metadata": {},
   "outputs": [
    {
     "data": {
      "text/plain": [
       "'tomate'"
      ]
     },
     "execution_count": 27,
     "metadata": {},
     "output_type": "execute_result"
    }
   ],
   "source": [
    "list_1[2]"
   ]
  },
  {
   "cell_type": "code",
   "execution_count": 29,
   "id": "c1b6f55e",
   "metadata": {},
   "outputs": [],
   "source": [
    "list_1[2] = \"Chocolate\" #Alterando valor da lista"
   ]
  },
  {
   "cell_type": "code",
   "execution_count": 31,
   "id": "aa637dee",
   "metadata": {},
   "outputs": [
    {
     "data": {
      "text/plain": [
       "['arroz', 'frango', 'Chocolate', 'leite']"
      ]
     },
     "execution_count": 31,
     "metadata": {},
     "output_type": "execute_result"
    }
   ],
   "source": [
    "list_1"
   ]
  },
  {
   "cell_type": "markdown",
   "id": "3ad495bc",
   "metadata": {},
   "source": [
    "# Deltando itens de uma lista"
   ]
  },
  {
   "cell_type": "code",
   "execution_count": 32,
   "id": "e83de7f8",
   "metadata": {},
   "outputs": [
    {
     "data": {
      "text/plain": [
       "['arroz', 'frango', 'Chocolate', 'leite']"
      ]
     },
     "execution_count": 32,
     "metadata": {},
     "output_type": "execute_result"
    }
   ],
   "source": [
    "list_1"
   ]
  },
  {
   "cell_type": "code",
   "execution_count": 34,
   "id": "0c500530",
   "metadata": {},
   "outputs": [],
   "source": [
    "del list_1[3] #Se eu tentar buscar o índice que não existe, aparecerá um erro"
   ]
  },
  {
   "cell_type": "code",
   "execution_count": 36,
   "id": "c5aa2af4",
   "metadata": {},
   "outputs": [
    {
     "data": {
      "text/plain": [
       "['arroz', 'frango', 'Chocolate']"
      ]
     },
     "execution_count": 36,
     "metadata": {},
     "output_type": "execute_result"
    }
   ],
   "source": [
    "list_1"
   ]
  },
  {
   "cell_type": "code",
   "execution_count": 37,
   "id": "c584b6b8",
   "metadata": {},
   "outputs": [],
   "source": [
    "list_1[2] = \"chocolate\""
   ]
  },
  {
   "cell_type": "markdown",
   "id": "0ef9136f",
   "metadata": {},
   "source": [
    "# Função Buit-in para Lista"
   ]
  },
  {
   "cell_type": "code",
   "execution_count": 39,
   "id": "95700025",
   "metadata": {},
   "outputs": [],
   "source": [
    "lista_numeros = [10, 20, 50, -3.4]"
   ]
  },
  {
   "cell_type": "code",
   "execution_count": 40,
   "id": "4d5d1c12",
   "metadata": {},
   "outputs": [
    {
     "data": {
      "text/plain": [
       "4"
      ]
     },
     "execution_count": 40,
     "metadata": {},
     "output_type": "execute_result"
    }
   ],
   "source": [
    "len (lista_numeros) #Tamanho da lista"
   ]
  },
  {
   "cell_type": "code",
   "execution_count": 41,
   "id": "e3e0ef80",
   "metadata": {},
   "outputs": [
    {
     "data": {
      "text/plain": [
       "50"
      ]
     },
     "execution_count": 41,
     "metadata": {},
     "output_type": "execute_result"
    }
   ],
   "source": [
    "max(lista_numeros)"
   ]
  },
  {
   "cell_type": "code",
   "execution_count": 42,
   "id": "9227a4bf",
   "metadata": {},
   "outputs": [
    {
     "data": {
      "text/plain": [
       "-3.4"
      ]
     },
     "execution_count": 42,
     "metadata": {},
     "output_type": "execute_result"
    }
   ],
   "source": [
    "min(lista_numeros)"
   ]
  },
  {
   "cell_type": "code",
   "execution_count": 43,
   "id": "649c2fcc",
   "metadata": {},
   "outputs": [],
   "source": [
    "lista_formacoes = [\"Analista de Dados\", \"Cientista de Dados\", \"Engenheiro de Dados\"]"
   ]
  },
  {
   "cell_type": "code",
   "execution_count": 44,
   "id": "4d0bb06c",
   "metadata": {},
   "outputs": [
    {
     "data": {
      "text/plain": [
       "['Analista de Dados', 'Cientista de Dados', 'Engenheiro de Dados']"
      ]
     },
     "execution_count": 44,
     "metadata": {},
     "output_type": "execute_result"
    }
   ],
   "source": [
    "lista_formacoes"
   ]
  },
  {
   "cell_type": "code",
   "execution_count": 45,
   "id": "b0c4616b",
   "metadata": {},
   "outputs": [],
   "source": [
    "lista_formacoes.append (\"Engenheiro de IA\")"
   ]
  },
  {
   "cell_type": "code",
   "execution_count": 46,
   "id": "c5bf7e3a",
   "metadata": {},
   "outputs": [
    {
     "data": {
      "text/plain": [
       "['Analista de Dados',\n",
       " 'Cientista de Dados',\n",
       " 'Engenheiro de Dados',\n",
       " 'Engenheiro de IA']"
      ]
     },
     "execution_count": 46,
     "metadata": {},
     "output_type": "execute_result"
    }
   ],
   "source": [
    "lista_formacoes"
   ]
  },
  {
   "cell_type": "code",
   "execution_count": 47,
   "id": "029e8783",
   "metadata": {},
   "outputs": [],
   "source": [
    "lista_formacoes.append (\"Engenheiro de IA\")"
   ]
  },
  {
   "cell_type": "code",
   "execution_count": 48,
   "id": "b0806e48",
   "metadata": {},
   "outputs": [
    {
     "data": {
      "text/plain": [
       "['Analista de Dados',\n",
       " 'Cientista de Dados',\n",
       " 'Engenheiro de Dados',\n",
       " 'Engenheiro de IA',\n",
       " 'Engenheiro de IA']"
      ]
     },
     "execution_count": 48,
     "metadata": {},
     "output_type": "execute_result"
    }
   ],
   "source": [
    "lista_formacoes"
   ]
  },
  {
   "cell_type": "code",
   "execution_count": 49,
   "id": "353440eb",
   "metadata": {},
   "outputs": [
    {
     "data": {
      "text/plain": [
       "2"
      ]
     },
     "execution_count": 49,
     "metadata": {},
     "output_type": "execute_result"
    }
   ],
   "source": [
    "lista_formacoes.count(\"Engenheiro de IA\")"
   ]
  },
  {
   "cell_type": "code",
   "execution_count": 50,
   "id": "69865092",
   "metadata": {},
   "outputs": [],
   "source": [
    "#Criando uma lista vazia\n",
    "a =[]"
   ]
  },
  {
   "cell_type": "code",
   "execution_count": 52,
   "id": "46c1958e",
   "metadata": {},
   "outputs": [
    {
     "name": "stdout",
     "output_type": "stream",
     "text": [
      "[]\n"
     ]
    }
   ],
   "source": [
    "print(a)"
   ]
  },
  {
   "cell_type": "code",
   "execution_count": 53,
   "id": "a1f38b91",
   "metadata": {},
   "outputs": [],
   "source": [
    "a.append(10)"
   ]
  },
  {
   "cell_type": "code",
   "execution_count": 54,
   "id": "da0a330e",
   "metadata": {},
   "outputs": [
    {
     "data": {
      "text/plain": [
       "[10]"
      ]
     },
     "execution_count": 54,
     "metadata": {},
     "output_type": "execute_result"
    }
   ],
   "source": [
    "a"
   ]
  },
  {
   "cell_type": "code",
   "execution_count": 56,
   "id": "e6c351ef",
   "metadata": {},
   "outputs": [],
   "source": [
    "a.append(50)"
   ]
  },
  {
   "cell_type": "code",
   "execution_count": 57,
   "id": "bbe502d3",
   "metadata": {},
   "outputs": [
    {
     "data": {
      "text/plain": [
       "[10, 50]"
      ]
     },
     "execution_count": 57,
     "metadata": {},
     "output_type": "execute_result"
    }
   ],
   "source": [
    "a"
   ]
  },
  {
   "cell_type": "code",
   "execution_count": 62,
   "id": "471f13d9",
   "metadata": {},
   "outputs": [],
   "source": [
    "old_list = [1, 2, 5, 10]"
   ]
  },
  {
   "cell_type": "code",
   "execution_count": 61,
   "id": "7bd2a96e",
   "metadata": {},
   "outputs": [],
   "source": [
    "new_list = []"
   ]
  },
  {
   "cell_type": "code",
   "execution_count": 64,
   "id": "1eea377a",
   "metadata": {},
   "outputs": [],
   "source": [
    "#Copiar itens de uma lista para outra\n",
    "for item in old_list:\n",
    "    new_list.append(item)"
   ]
  },
  {
   "cell_type": "code",
   "execution_count": 65,
   "id": "6b25be1f",
   "metadata": {},
   "outputs": [
    {
     "data": {
      "text/plain": [
       "[1, 2, 5, 10]"
      ]
     },
     "execution_count": 65,
     "metadata": {},
     "output_type": "execute_result"
    }
   ],
   "source": [
    "new_list"
   ]
  },
  {
   "cell_type": "code",
   "execution_count": 66,
   "id": "18d010ab",
   "metadata": {},
   "outputs": [],
   "source": [
    "cidades =['Recife','Manaus','Salvador']\n",
    "cidades.extend(['Fortaleza','Palmas'])"
   ]
  },
  {
   "cell_type": "code",
   "execution_count": 67,
   "id": "01a40de9",
   "metadata": {},
   "outputs": [
    {
     "data": {
      "text/plain": [
       "['Recife', 'Manaus', 'Salvador', 'Fortaleza', 'Palmas']"
      ]
     },
     "execution_count": 67,
     "metadata": {},
     "output_type": "execute_result"
    }
   ],
   "source": [
    "cidades"
   ]
  },
  {
   "cell_type": "code",
   "execution_count": 68,
   "id": "a3e0683f",
   "metadata": {},
   "outputs": [
    {
     "data": {
      "text/plain": [
       "1"
      ]
     },
     "execution_count": 68,
     "metadata": {},
     "output_type": "execute_result"
    }
   ],
   "source": [
    "cidades.index('Manaus') #Mostra qual índice a cidade de Manaus está"
   ]
  },
  {
   "cell_type": "code",
   "execution_count": 69,
   "id": "a6417deb",
   "metadata": {},
   "outputs": [],
   "source": [
    "cidades.insert(2,110) #Com método insert eu passo qual é o index que preciso adicionar algo"
   ]
  },
  {
   "cell_type": "code",
   "execution_count": 70,
   "id": "2b690763",
   "metadata": {},
   "outputs": [
    {
     "data": {
      "text/plain": [
       "['Recife', 'Manaus', 110, 'Salvador', 'Fortaleza', 'Palmas']"
      ]
     },
     "execution_count": 70,
     "metadata": {},
     "output_type": "execute_result"
    }
   ],
   "source": [
    "cidades"
   ]
  },
  {
   "cell_type": "code",
   "execution_count": 71,
   "id": "15ed1191",
   "metadata": {},
   "outputs": [],
   "source": [
    "cidades.remove(110) #ele remove o valor que você pediu"
   ]
  },
  {
   "cell_type": "code",
   "execution_count": 72,
   "id": "375f8fcd",
   "metadata": {},
   "outputs": [
    {
     "data": {
      "text/plain": [
       "['Recife', 'Manaus', 'Salvador', 'Fortaleza', 'Palmas']"
      ]
     },
     "execution_count": 72,
     "metadata": {},
     "output_type": "execute_result"
    }
   ],
   "source": [
    "cidades"
   ]
  },
  {
   "cell_type": "code",
   "execution_count": 73,
   "id": "eb694d62",
   "metadata": {},
   "outputs": [],
   "source": [
    "cidades.reverse() #reverte a lista"
   ]
  },
  {
   "cell_type": "code",
   "execution_count": 75,
   "id": "9212c832",
   "metadata": {},
   "outputs": [
    {
     "data": {
      "text/plain": [
       "['Palmas', 'Fortaleza', 'Salvador', 'Manaus', 'Recife']"
      ]
     },
     "execution_count": 75,
     "metadata": {},
     "output_type": "execute_result"
    }
   ],
   "source": [
    "cidades"
   ]
  },
  {
   "cell_type": "code",
   "execution_count": 76,
   "id": "3ea58819",
   "metadata": {},
   "outputs": [],
   "source": [
    "x = [3,5,1,7,2]"
   ]
  },
  {
   "cell_type": "code",
   "execution_count": 77,
   "id": "bd852eb1",
   "metadata": {},
   "outputs": [
    {
     "data": {
      "text/plain": [
       "[3, 5, 1, 7, 2]"
      ]
     },
     "execution_count": 77,
     "metadata": {},
     "output_type": "execute_result"
    }
   ],
   "source": [
    "x"
   ]
  },
  {
   "cell_type": "code",
   "execution_count": 79,
   "id": "2135c766",
   "metadata": {},
   "outputs": [],
   "source": [
    "x.sort() #Vai ordenar a lista"
   ]
  },
  {
   "cell_type": "code",
   "execution_count": 80,
   "id": "917136f3",
   "metadata": {},
   "outputs": [
    {
     "data": {
      "text/plain": [
       "[1, 2, 3, 5, 7]"
      ]
     },
     "execution_count": 80,
     "metadata": {},
     "output_type": "execute_result"
    }
   ],
   "source": [
    "x"
   ]
  }
 ],
 "metadata": {
  "kernelspec": {
   "display_name": "Python 3 (ipykernel)",
   "language": "python",
   "name": "python3"
  },
  "language_info": {
   "codemirror_mode": {
    "name": "ipython",
    "version": 3
   },
   "file_extension": ".py",
   "mimetype": "text/x-python",
   "name": "python",
   "nbconvert_exporter": "python",
   "pygments_lexer": "ipython3",
   "version": "3.9.13"
  }
 },
 "nbformat": 4,
 "nbformat_minor": 5
}
