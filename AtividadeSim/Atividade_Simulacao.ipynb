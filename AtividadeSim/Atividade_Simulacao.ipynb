{
 "cells": [
  {
   "cell_type": "markdown",
   "id": "6e3ed530",
   "metadata": {},
   "source": [
    "## Atividade Final - Simulação \n",
    "\n"
   ]
  },
  {
   "attachments": {},
   "cell_type": "markdown",
   "id": "124462a3",
   "metadata": {},
   "source": [
    "## Questão 1\n",
    " A tabela planilha Dados_1 apresenta valores sobre as variáveis Y = Preço de vendas 1000 e X1 = Tamanho da residência em ft2 e X2 =  Valor estimado 1000. "
   ]
  },
  {
   "cell_type": "code",
   "execution_count": 8,
   "id": "7ef97dd1",
   "metadata": {},
   "outputs": [],
   "source": [
    "import numpy as np\n",
    "import statsmodels.api as sm\n",
    "import pandas as pd\n",
    "import seaborn as sns\n",
    "import matplotlib.pyplot as plt\n",
    "from sklearn.linear_model import LinearRegression\n"
   ]
  },
  {
   "cell_type": "code",
   "execution_count": 5,
   "id": "a8c0eda5",
   "metadata": {},
   "outputs": [],
   "source": [
    "df1 = pd.read_excel('dados1.xlsx')"
   ]
  },
  {
   "cell_type": "code",
   "execution_count": 6,
   "id": "be0870c3",
   "metadata": {},
   "outputs": [
    {
     "data": {
      "text/html": [
       "<div>\n",
       "<style scoped>\n",
       "    .dataframe tbody tr th:only-of-type {\n",
       "        vertical-align: middle;\n",
       "    }\n",
       "\n",
       "    .dataframe tbody tr th {\n",
       "        vertical-align: top;\n",
       "    }\n",
       "\n",
       "    .dataframe thead th {\n",
       "        text-align: right;\n",
       "    }\n",
       "</style>\n",
       "<table border=\"1\" class=\"dataframe\">\n",
       "  <thead>\n",
       "    <tr style=\"text-align: right;\">\n",
       "      <th></th>\n",
       "      <th>Y</th>\n",
       "      <th>X1</th>\n",
       "      <th>X2</th>\n",
       "    </tr>\n",
       "  </thead>\n",
       "  <tbody>\n",
       "    <tr>\n",
       "      <th>0</th>\n",
       "      <td>74.8</td>\n",
       "      <td>15.31</td>\n",
       "      <td>57.3</td>\n",
       "    </tr>\n",
       "    <tr>\n",
       "      <th>1</th>\n",
       "      <td>74.0</td>\n",
       "      <td>15.20</td>\n",
       "      <td>63.8</td>\n",
       "    </tr>\n",
       "    <tr>\n",
       "      <th>2</th>\n",
       "      <td>72.9</td>\n",
       "      <td>16.25</td>\n",
       "      <td>65.4</td>\n",
       "    </tr>\n",
       "    <tr>\n",
       "      <th>3</th>\n",
       "      <td>70.0</td>\n",
       "      <td>14.33</td>\n",
       "      <td>57.0</td>\n",
       "    </tr>\n",
       "    <tr>\n",
       "      <th>4</th>\n",
       "      <td>74.9</td>\n",
       "      <td>14.57</td>\n",
       "      <td>63.8</td>\n",
       "    </tr>\n",
       "  </tbody>\n",
       "</table>\n",
       "</div>"
      ],
      "text/plain": [
       "      Y     X1    X2\n",
       "0  74.8  15.31  57.3\n",
       "1  74.0  15.20  63.8\n",
       "2  72.9  16.25  65.4\n",
       "3  70.0  14.33  57.0\n",
       "4  74.9  14.57  63.8"
      ]
     },
     "execution_count": 6,
     "metadata": {},
     "output_type": "execute_result"
    }
   ],
   "source": [
    "df1.head()"
   ]
  },
  {
   "cell_type": "code",
   "execution_count": 7,
   "id": "71c7f425",
   "metadata": {},
   "outputs": [],
   "source": [
    "# Calcular a matriz de correlações\n",
    "correlation_matrix = df1.corr()"
   ]
  },
  {
   "cell_type": "code",
   "execution_count": 9,
   "id": "308f463f",
   "metadata": {},
   "outputs": [
    {
     "name": "stdout",
     "output_type": "stream",
     "text": [
      "           Y        X1        X2\n",
      "Y   1.000000  0.913319  0.851384\n",
      "X1  0.913319  1.000000  0.925711\n",
      "X2  0.851384  0.925711  1.000000\n"
     ]
    }
   ],
   "source": [
    "#Letra (a) matriz de correlação\n",
    "print(correlation_matrix)"
   ]
  },
  {
   "cell_type": "markdown",
   "id": "b9611872",
   "metadata": {},
   "source": [
    "b)\n",
    "\n",
    "\n",
    "Com base na matriz de correlação fornecida, podemos fazer as seguintes observações sobre as correlações entre as variáveis Y Preço de vendas, X1 Tamanho da residência em ft2 e X2 Valor estimado :\n",
    "\n",
    "A correlação entre Y e X1 é de 0.913. Isso indica uma forte correlação positiva entre o preço de vendas e o tamanho da residência. Quanto maior o tamanho da residência, maior tende a ser o preço de vendas.\n",
    "\n",
    "A correlação entre Y e X2 é de 0.851. Isso indica uma correlação positiva moderada entre o preço de vendas e o valor estimado. Conforme o valor estimado aumenta, espera-se que o preço de vendas também aumente.\n",
    "\n",
    "A correlação entre X1 e X2 é de 0.926. Isso indica uma forte correlação positiva entre o tamanho da residência e o valor estimado. Geralmente, à medida que o tamanho da residência aumenta, o valor estimado também tende a aumentar.\n",
    "\n",
    "Essas correlações indicam que tanto o tamanho da residência quanto o valor estimado têm uma relação significativa com o preço de vendas. "
   ]
  },
  {
   "cell_type": "code",
   "execution_count": 15,
   "id": "e0150b72",
   "metadata": {},
   "outputs": [
    {
     "name": "stdout",
     "output_type": "stream",
     "text": [
      "Coeficientes: [2.63439962 0.04518386]\n",
      "Intercepto: 30.966566335095138\n"
     ]
    }
   ],
   "source": [
    "#Letra (c) modelo linear de X1 e  X2 sobre Y.\n",
    "\n",
    "# Separando as variáveis independentes (X1 e X2) e a variável dependente (Y)\n",
    "X = df1[['X1', 'X2']]\n",
    "Y = df1['Y']\n",
    "\n",
    "# Criando uma instância do modelo de regressão linear\n",
    "modelo = LinearRegression()\n",
    "\n",
    "# Ajustando o modelo aos dados\n",
    "modelo.fit(X, Y)\n",
    "\n",
    "# Obtendo os coeficientes do modelo\n",
    "coeficientes = modelo.coef_\n",
    "intercepto = modelo.intercept_\n",
    "\n",
    "# Imprimindo os coeficientes\n",
    "print(\"Coeficientes:\", coeficientes)\n",
    "print(\"Intercepto:\", intercepto)"
   ]
  },
  {
   "cell_type": "code",
   "execution_count": 25,
   "id": "50d61e29",
   "metadata": {
    "scrolled": true
   },
   "outputs": [
    {
     "data": {
      "image/png": "[encoded data removed]",
      "text/plain": [
       "<Figure size 500x500 with 1 Axes>"
      ]
     },
     "metadata": {},
     "output_type": "display_data"
    },
    {
     "data": {
      "text/plain": [
       "{'Variável': ['X1', 'X2'], 'Coeficiente': array([2.63439962, 0.04518386])}"
      ]
     },
     "execution_count": 25,
     "metadata": {},
     "output_type": "execute_result"
    }
   ],
   "source": [
    "\n",
    "# Plotando o gráfico\n",
    "sns.lmplot(x='X1', y='Y', data=df1)  # Substitua 'X1' pelo nome da coluna correspondente no seu DataFrame\n",
    "plt.title('Regressão Linear')\n",
    "plt.xlabel('X1')\n",
    "plt.ylabel('Y')\n",
    "\n",
    "# Mostrando o gráfico\n",
    "plt.show()\n",
    "({'Variável': ['X1', 'X2'], 'Coeficiente': coeficientes})\n",
    "\n"
   ]
  },
  {
   "cell_type": "code",
   "execution_count": 26,
   "id": "35e3c1a2",
   "metadata": {
    "scrolled": true
   },
   "outputs": [
    {
     "name": "stdout",
     "output_type": "stream",
     "text": [
      "Coeficiente de determinação (R²): 0.8343970328484548\n"
     ]
    }
   ],
   "source": [
    "#Letra (d) Determine o valor do coefieciente de determinação\n",
    "r_squared = modelo.score(X, Y)\n",
    "\n",
    "# Imprimindo o coeficiente de determinação\n",
    "print(\"Coeficiente de determinação (R²):\", r_squared)"
   ]
  },
  {
   "cell_type": "markdown",
   "id": "eae9c692",
   "metadata": {},
   "source": [
    "Como o coeficiente de determinação (R²) de 0.834 podemos afirmar que cerca de 83.4% da variabilidade nos preços de venda pode ser explicada pelas variáveis independentes, tamanho da residência em ft2 e Valor estimado, no modelo de regressão linear."
   ]
  },
  {
   "cell_type": "code",
   "execution_count": 30,
   "id": "7bf9debd",
   "metadata": {},
   "outputs": [
    {
     "name": "stdout",
     "output_type": "stream",
     "text": [
      "Equação da regressão linear: Y = 30.97 + 2.63 * X1 + 0.05 * X2\n"
     ]
    }
   ],
   "source": [
    "#Letra (e) Y = intercepto + coeficiente_X1 * X1 + coeficiente_X2 * X2\n",
    "\n",
    "#Arredondando os coeficientes\n",
    "coeficientes = [round(coeficiente, 2) for coeficiente in coeficientes]\n",
    "intercepto = round(intercepto, 2)\n",
    "\n",
    "# Apresentando a equação da regressão linear\n",
    "equacao = f\"Y = {intercepto} + {coeficientes[0]} * X1 + {coeficientes[1]} * X2\"\n",
    "print(\"Equação da regressão linear:\", equacao)"
   ]
  },
  {
   "cell_type": "markdown",
   "id": "89b4eee0",
   "metadata": {},
   "source": [
    "Sabendo que Y representa o Preço de vendas, X1 representa o Tamanho da residência em ft2 e X2 representa o Valor estimado, podemos fazer as seguintes afirmações:\n",
    "\n",
    "   - Intercepto (30.97): Quando tanto o Tamanho da residência (X1) quanto o Valor estimado (X2) são iguais a zero, o Preço de vendas (Y) é estimado em 30.97. Isso significa que, na ausência das variáveis independentes, o valor esperado do Preço de vendas é de 30.97.\n",
    "\n",
    "   - Coeficiente de X1 (2.63): Para cada aumento de uma unidade no Tamanho da residência (X1), mantendo o Valor estimado (X2) constante, o Preço de vendas (Y) aumenta em 2.63 unidades. Isso indica que o Tamanho da residência tem uma influência positiva significativa no Preço de vendas.\n",
    "\n",
    "   - Coeficiente de X2 (0.05): Para cada aumento de uma unidade no Valor estimado (X2), mantendo o Tamanho da residência (X1) constante, o Preço de vendas (Y) aumenta em 0.05 unidades. Isso indica que o Valor estimado tem uma influência positiva, mas relativamente fraca, no Preço de vendas em comparação com o Tamanho da residência.\n",
    "\n",
    "Portanto, com base na equação da regressão linear, podemos afirmar que tanto o Tamanho da residência quanto o Valor estimado têm um impacto positivo no Preço de vendas. O coeficiente de X1 é maior, indicando que o Tamanho da residência tem uma influência mais forte no Preço de vendas em comparação com o Valor estimado."
   ]
  },
  {
   "attachments": {},
   "cell_type": "markdown",
   "id": "5f4de685",
   "metadata": {},
   "source": [
    "# Questão 2\n",
    "A tabela dados_2 apresenta dados sobre o produto real, trabalho e capital real no setor industrial de um certo país!"
   ]
  },
  {
   "cell_type": "code",
   "execution_count": 3,
   "id": "27a7e31b",
   "metadata": {},
   "outputs": [],
   "source": [
    "df2 = pd.read_excel('dados2.xlsx')"
   ]
  },
  {
   "cell_type": "code",
   "execution_count": 4,
   "id": "81db943f",
   "metadata": {},
   "outputs": [
    {
     "data": {
      "text/html": [
       "<div>\n",
       "<style scoped>\n",
       "    .dataframe tbody tr th:only-of-type {\n",
       "        vertical-align: middle;\n",
       "    }\n",
       "\n",
       "    .dataframe tbody tr th {\n",
       "        vertical-align: top;\n",
       "    }\n",
       "\n",
       "    .dataframe thead th {\n",
       "        text-align: right;\n",
       "    }\n",
       "</style>\n",
       "<table border=\"1\" class=\"dataframe\">\n",
       "  <thead>\n",
       "    <tr style=\"text-align: right;\">\n",
       "      <th></th>\n",
       "      <th>Ano</th>\n",
       "      <th>Y</th>\n",
       "      <th>X1</th>\n",
       "      <th>X2</th>\n",
       "    </tr>\n",
       "  </thead>\n",
       "  <tbody>\n",
       "    <tr>\n",
       "      <th>0</th>\n",
       "      <td>1958</td>\n",
       "      <td>8911.4</td>\n",
       "      <td>281.5</td>\n",
       "      <td>120753</td>\n",
       "    </tr>\n",
       "    <tr>\n",
       "      <th>1</th>\n",
       "      <td>1959</td>\n",
       "      <td>10873.2</td>\n",
       "      <td>284.4</td>\n",
       "      <td>122242</td>\n",
       "    </tr>\n",
       "    <tr>\n",
       "      <th>2</th>\n",
       "      <td>1960</td>\n",
       "      <td>11132.5</td>\n",
       "      <td>289.0</td>\n",
       "      <td>125263</td>\n",
       "    </tr>\n",
       "    <tr>\n",
       "      <th>3</th>\n",
       "      <td>1961</td>\n",
       "      <td>12086.5</td>\n",
       "      <td>375.8</td>\n",
       "      <td>128539</td>\n",
       "    </tr>\n",
       "    <tr>\n",
       "      <th>4</th>\n",
       "      <td>1962</td>\n",
       "      <td>12767.5</td>\n",
       "      <td>375.2</td>\n",
       "      <td>131427</td>\n",
       "    </tr>\n",
       "  </tbody>\n",
       "</table>\n",
       "</div>"
      ],
      "text/plain": [
       "    Ano        Y     X1      X2\n",
       "0  1958   8911.4  281.5  120753\n",
       "1  1959  10873.2  284.4  122242\n",
       "2  1960  11132.5  289.0  125263\n",
       "3  1961  12086.5  375.8  128539\n",
       "4  1962  12767.5  375.2  131427"
      ]
     },
     "execution_count": 4,
     "metadata": {},
     "output_type": "execute_result"
    }
   ],
   "source": [
    "df2.head()"
   ]
  },
  {
   "cell_type": "code",
   "execution_count": 14,
   "id": "52887f61",
   "metadata": {},
   "outputs": [
    {
     "name": "stdout",
     "output_type": "stream",
     "text": [
      "R-squared (Modelo 1): 0.9898804698980546\n",
      "R-squared (Modelo 2): 0.9541903653142062\n"
     ]
    }
   ],
   "source": [
    "#Letra (a)\n",
    "# Modelo 1: Yt = b1 + b2X2t + b3X3t + Ut\n",
    "X = df2[['X2']]\n",
    "X = sm.add_constant(X)  # Adicionando a coluna constante para o termo b1\n",
    "Y = df2['Y']\n",
    "\n",
    "model1 = sm.OLS(Y, X)\n",
    "results1 = model1.fit()\n",
    "\n",
    "# Cálculo do R-squared para o Modelo 1\n",
    "y_hat1 = results1.predict(X)\n",
    "sse1 = np.sum((Y - y_hat1) ** 2)  # Soma dos quadrados dos resíduos\n",
    "sst1 = np.sum((Y - np.mean(Y)) ** 2)  # Soma dos quadrados totais\n",
    "rsquared1 = 1 - (sse1 / sst1)\n",
    "print(\"R-squared (Modelo 1):\", rsquared1)\n",
    "\n",
    "# Modelo 2: lnYt = a1 + a2lnX2t + a3lnX3t + Ut\n",
    "X_log = np.log(df2[['X2']])\n",
    "X_log = sm.add_constant(X_log)  # Adicionando a coluna constante para o termo a1\n",
    "Y_log = np.log(df2['Y'])\n",
    "\n",
    "model2 = sm.OLS(Y_log, X_log)\n",
    "results2 = model2.fit()\n",
    "\n",
    "# Cálculo do R-squared para o Modelo 2\n",
    "y_hat2 = results2.predict(X_log)\n",
    "sse2 = np.sum((Y_log - y_hat2) ** 2)  # Soma dos quadrados dos resíduos\n",
    "sst2 = np.sum((Y_log - np.mean(Y_log)) ** 2)  # Soma dos quadrados totais\n",
    "rsquared2 = 1 - (sse2 / sst2)\n",
    "print(\"R-squared (Modelo 2):\", rsquared2)\n"
   ]
  },
  {
   "cell_type": "markdown",
   "id": "dcbce675",
   "metadata": {},
   "source": [
    "Letra (b)\n",
    "\n",
    "o Modelo 1 apresenta um valor de R-squared mais alto 0.9898804698980546 em comparação com o Modelo 2 0.9541903653142062. Isso indica que o Modelo 1 é capaz de explicar uma maior proporção da variabilidade observada em Y com base nas variáveis X2 e X3, em comparação com o Modelo 2.\n",
    "\n",
    "O R-squared é uma medida que indica a proporção da variabilidade total dos dados que é explicada pelo modelo. Quanto mais próximo o valor de R-squared estiver de 1, melhor será o ajuste do modelo aos dados. Nesse sentido, o Modelo 1 possui um R-squared mais elevado, indicando que ele é capaz de capturar uma maior quantidade da variação em Y usando as variáveis X2 e X3.\n",
    "\n",
    "Portanto, com base nos valores de R-squared fornecidos, pode-se concluir que o Modelo 1 oferece um melhor ajuste aos dados em comparação com o Modelo 2, pois explica uma maior proporção da variabilidade observada em Y."
   ]
  },
  {
   "cell_type": "markdown",
   "id": "74aa9c5a",
   "metadata": {},
   "source": [
    "Letra (c)\n",
    "\n",
    "Para uma comparação mais precisa dos valores de R-squared (R2) entre os dois modelos, você pode usar a diferença relativa dos R2, que é calculada pela fórmula:\n",
    "\n",
    "Diferença relativa = (R2_Modelo1 - R2_Modelo2) / R2_Modelo1\n",
    "\n",
    "Essa medida permite avaliar a diferença proporcional entre os valores de R2 dos dois modelos. Se a diferença relativa for positiva, significa que o Modelo 1 tem um R2 maior e, portanto, um melhor ajuste. Se for negativa, indica que o Modelo 2 tem um R2 maior e um melhor ajuste.\n",
    "\n",
    "Vamos calcular a diferença relativa dos R2 com base nos valores fornecidos:\n",
    "\n",
    "R2_Modelo1 = 0.9898804698980546\n",
    "R2_Modelo2 = 0.9541903653142062\n",
    "\n",
    "Diferença relativa = (0.9898804698980546 - 0.9541903653142062) / 0.9898804698980546\n",
    "\n",
    "Diferença relativa = 0.036\n",
    "\n",
    "Nesse caso, a diferença relativa dos R2 é de aproximadamente 0.036 ou 3.6%. Como a diferença é positiva, isso indica que o Modelo 1 tem um R2 maior e, portanto, um melhor ajuste em relação ao Modelo 2.\n",
    "\n",
    "Portanto, com base na diferença relativa dos R2, pode-se concluir que o Modelo 1 oferece um melhor ajuste em relação ao Modelo 2, explicando uma maior proporção da variabilidade observada em Y com base nas variáveis X2 e X3."
   ]
  }
 ],
 "metadata": {
  "kernelspec": {
   "display_name": "Python 3 (ipykernel)",
   "language": "python",
   "name": "python3"
  },
  "language_info": {
   "codemirror_mode": {
    "name": "ipython",
    "version": 3
   },
   "file_extension": ".py",
   "mimetype": "text/x-python",
   "name": "python",
   "nbconvert_exporter": "python",
   "pygments_lexer": "ipython3",
   "version": "3.11.3"
  }
 },
 "nbformat": 4,
 "nbformat_minor": 5
}
