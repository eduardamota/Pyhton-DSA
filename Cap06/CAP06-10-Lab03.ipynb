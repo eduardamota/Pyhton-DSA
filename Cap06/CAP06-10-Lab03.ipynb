{
 "cells": [
  {
   "cell_type": "markdown",
   "id": "e1ab16f4",
   "metadata": {},
   "source": [
    "## Expressões Regulares\n",
    "\n",
    "São padrões usados para combinar ou encontrar ocorrências de sequências de caracteres em uma string."
   ]
  },
  {
   "cell_type": "code",
   "execution_count": 4,
   "id": "e4c2ea8c",
   "metadata": {},
   "outputs": [],
   "source": [
    "import re"
   ]
  },
  {
   "cell_type": "code",
   "execution_count": 5,
   "id": "fb0377fd",
   "metadata": {},
   "outputs": [],
   "source": [
    "texto = \"Meu e-mail é exemplo@gmail.com e você pode me contatar em outro_email@yahoo.com.\""
   ]
  },
  {
   "cell_type": "code",
   "execution_count": 7,
   "id": "f4aa0bfb",
   "metadata": {},
   "outputs": [],
   "source": [
    "resultado = len(re.findall(\"@\",texto))"
   ]
  },
  {
   "cell_type": "code",
   "execution_count": 8,
   "id": "bc1ee3b8",
   "metadata": {},
   "outputs": [
    {
     "name": "stdout",
     "output_type": "stream",
     "text": [
      "O caracter '@' apareceu 2 vezes no texto.\n"
     ]
    }
   ],
   "source": [
    "print(\"O caracter '@' apareceu\", resultado, \"vezes no texto.\")"
   ]
  },
  {
   "cell_type": "code",
   "execution_count": 9,
   "id": "d8d4733a",
   "metadata": {},
   "outputs": [],
   "source": [
    "resultado = re.findall(r'você (\\w+)',texto) #\\w busca qualquer palavra e o r permite que você utilize o \\w como um padrão"
   ]
  },
  {
   "cell_type": "code",
   "execution_count": 11,
   "id": "0cdb952a",
   "metadata": {},
   "outputs": [
    {
     "name": "stdout",
     "output_type": "stream",
     "text": [
      "A palavra após 'você' é: pode\n"
     ]
    }
   ],
   "source": [
    "print(\"A palavra após 'você' é:\",resultado[0]) #Caso eu adicione só o resultado ele irá me retornar a listab"
   ]
  },
  {
   "cell_type": "code",
   "execution_count": 12,
   "id": "b8661c00",
   "metadata": {},
   "outputs": [],
   "source": [
    "emails = re.findall(r'\\b[A-Za-z0-9._%+-]+@[A-Za-z0-9.-]+\\.[A-Z|a-z]{2,}\\b',texto)"
   ]
  },
  {
   "cell_type": "code",
   "execution_count": 13,
   "id": "33799687",
   "metadata": {},
   "outputs": [
    {
     "name": "stdout",
     "output_type": "stream",
     "text": [
      "['exemplo@gmail.com', 'outro_email@yahoo.com']\n"
     ]
    }
   ],
   "source": [
    "print(emails)"
   ]
  },
  {
   "cell_type": "code",
   "execution_count": 14,
   "id": "3f7a472b",
   "metadata": {},
   "outputs": [],
   "source": [
    "text = \"O aluno estava incrivelmente perdido, mas encontrou a dsa e rapidamente começou a aprender \""
   ]
  },
  {
   "cell_type": "code",
   "execution_count": null,
   "id": "222ae2dd",
   "metadata": {},
   "outputs": [],
   "source": [
    "for m in re.finditer(r\"\\w+mente\\b\",text):\n",
    "    "
   ]
  },
  {
   "cell_type": "markdown",
   "id": "054af8e3",
   "metadata": {},
   "source": [
    "## REGEX com ChatGPT\n",
    "\n",
    "Música: Tempo Perdido\n",
    "\n",
    "Legião Urbana "
   ]
  },
  {
   "cell_type": "code",
   "execution_count": 15,
   "id": "051493e9",
   "metadata": {},
   "outputs": [],
   "source": [
    "#''' Permite colocar um string em várias linhas\n",
    "musica = '''\n",
    "Todos os dias quando acordo\n",
    "Não tenho mais\n",
    "O tempo que passou\n",
    "Mas tenho muito tempo\n",
    "Temos todo o tempo do mundo\n",
    "Todos os dias\n",
    "Antes de dormir\n",
    "Lembro e esqueço\n",
    "Como foi o dia\n",
    "Sempre em frente\n",
    "Não temos tempo a perder\n",
    "Nosso suor sagrado\n",
    "É bem mais belo\n",
    "Que esse sangue amargo\n",
    "E tão sério\n",
    "E selvagem! Selvagem!\n",
    "Selvagem!\n",
    "Veja o sol\n",
    "Dessa manhã tão cinza\n",
    "A tempestade que chega\n",
    "É da cor dos teus olhos\n",
    "Castanhos\n",
    "Então me abraça forte\n",
    "E diz mais uma vez\n",
    "Que já estamos\n",
    "Distantes de tudo\n",
    "Temos nosso próprio tempo\n",
    "Temos nosso próprio tempo\n",
    "Temos nosso próprio tempo\n",
    "Não tenho medo do escuro\n",
    "Mas deixe as luzes\n",
    "Acesas agora\n",
    "O que foi escondido\n",
    "É o que se escondeu\n",
    "E o que foi prometido\n",
    "Ninguém prometeu\n",
    "Nem foi tempo perdido\n",
    "Somos tão jovens\n",
    "Tão jovens! Tão jovens!\n",
    "'''"
   ]
  },
  {
   "cell_type": "code",
   "execution_count": 16,
   "id": "68371549",
   "metadata": {
    "scrolled": true
   },
   "outputs": [
    {
     "name": "stdout",
     "output_type": "stream",
     "text": [
      "\n",
      "Todos os dias quando acordo\n",
      "Não tenho mais\n",
      "O tempo que passou\n",
      "Mas tenho muito tempo\n",
      "Temos todo o tempo do mundo\n",
      "Todos os dias\n",
      "Antes de dormir\n",
      "Lembro e esqueço\n",
      "Como foi o dia\n",
      "Sempre em frente\n",
      "Não temos tempo a perder\n",
      "Nosso suor sagrado\n",
      "É bem mais belo\n",
      "Que esse sangue amargo\n",
      "E tão sério\n",
      "E selvagem! Selvagem!\n",
      "Selvagem!\n",
      "Veja o sol\n",
      "Dessa manhã tão cinza\n",
      "A tempestade que chega\n",
      "É da cor dos teus olhos\n",
      "Castanhos\n",
      "Então me abraça forte\n",
      "E diz mais uma vez\n",
      "Que já estamos\n",
      "Distantes de tudo\n",
      "Temos nosso próprio tempo\n",
      "Temos nosso próprio tempo\n",
      "Temos nosso próprio tempo\n",
      "Não tenho medo do escuro\n",
      "Mas deixe as luzes\n",
      "Acesas agora\n",
      "O que foi escondido\n",
      "É o que se escondeu\n",
      "E o que foi prometido\n",
      "Ninguém prometeu\n",
      "Nem foi tempo perdido\n",
      "Somos tão jovens\n",
      "Tão jovens! Tão jovens!\n",
      "\n"
     ]
    }
   ],
   "source": [
    "print(musica)"
   ]
  },
  {
   "cell_type": "code",
   "execution_count": null,
   "id": "ba6b97fd",
   "metadata": {},
   "outputs": [],
   "source": [
    "# 1 - Contar quantas vezes o caracter \"a\" aparece em todo o texto da música\n",
    "# 2 - Contar quantaas vezes a palavra tempo aparece na música\n",
    "# 3 - Extrair palavras seguidas por exclamação\n",
    "# 4 - Extrair palavras que o antecessor é a palavra \"esse\" e o sucessor \"amargo\"\n",
    "# 5 - Extrair palavras com acento, mas só os caracteres na palavra que são anteriores ao caracter (caracter até o acento)"
   ]
  },
  {
   "cell_type": "code",
   "execution_count": 26,
   "id": "26f3b00a",
   "metadata": {},
   "outputs": [],
   "source": [
    "num_a = len(re.findall('a',musica,re.IGNORECASE))"
   ]
  },
  {
   "cell_type": "code",
   "execution_count": 27,
   "id": "12cac3be",
   "metadata": {},
   "outputs": [
    {
     "name": "stdout",
     "output_type": "stream",
     "text": [
      "42\n"
     ]
    }
   ],
   "source": [
    "print (num_a)"
   ]
  },
  {
   "cell_type": "code",
   "execution_count": 21,
   "id": "a5b9aeb4",
   "metadata": {},
   "outputs": [
    {
     "name": "stdout",
     "output_type": "stream",
     "text": [
      "8\n"
     ]
    }
   ],
   "source": [
    "print(len(re.findall('tempo',musica,re.IGNORECASE)))"
   ]
  },
  {
   "cell_type": "code",
   "execution_count": 38,
   "id": "1f71aade",
   "metadata": {},
   "outputs": [],
   "source": [
    "palavras_exclamacao = re.findall (r'\\b\\w+!',musica)"
   ]
  },
  {
   "cell_type": "code",
   "execution_count": 39,
   "id": "7545de5b",
   "metadata": {},
   "outputs": [
    {
     "name": "stdout",
     "output_type": "stream",
     "text": [
      "['selvagem!', 'Selvagem!', 'Selvagem!', 'jovens!', 'jovens!']\n"
     ]
    }
   ],
   "source": [
    "print(palavras_exclamacao)"
   ]
  },
  {
   "cell_type": "code",
   "execution_count": 41,
   "id": "007ab763",
   "metadata": {},
   "outputs": [
    {
     "name": "stdout",
     "output_type": "stream",
     "text": [
      "sangue\n"
     ]
    }
   ],
   "source": [
    "palavras = re.findall(r\"esse\\s(\\w+)\\samargo\", musica)\n",
    "print(palavras[0])"
   ]
  },
  {
   "cell_type": "code",
   "execution_count": 50,
   "id": "133b315c",
   "metadata": {},
   "outputs": [
    {
     "name": "stdout",
     "output_type": "stream",
     "text": [
      "['Todos', 'os', 'dias', 'quando', 'acordo', 'Não', 'tenho', 'mais', 'O', 'tempo', 'que', 'passou', 'Mas', 'tenho', 'muito', 'tempo', 'Temos', 'todo', 'o', 'tempo', 'do', 'mundo', 'Todos', 'os', 'dias', 'Antes', 'de', 'dormir', 'Lembro', 'e', 'esqueço', 'Como', 'foi', 'o', 'dia', 'Sempre', 'em', 'frente', 'Não', 'temos', 'tempo', 'a', 'perder', 'Nosso', 'suor', 'sagrado', 'É', 'bem', 'mais', 'belo', 'Que', 'esse', 'sangue', 'amargo', 'E', 'tão', 'sério', 'E', 'selvagem', 'Selvagem', 'Selvagem', 'Veja', 'o', 'sol', 'Dessa', 'manhã', 'tão', 'cinza', 'A', 'tempestade', 'que', 'chega', 'É', 'da', 'cor', 'dos', 'teus', 'olhos', 'Castanhos', 'Então', 'me', 'abraça', 'forte', 'E', 'diz', 'mais', 'uma', 'vez', 'Que', 'já', 'estamos', 'Distantes', 'de', 'tudo', 'Temos', 'nosso', 'próprio', 'tempo', 'Temos', 'nosso', 'próprio', 'tempo', 'Temos', 'nosso', 'próprio', 'tempo', 'Não', 'tenho', 'medo', 'do', 'escuro', 'Mas', 'deixe', 'as', 'luzes', 'Acesas', 'agora', 'O', 'que', 'foi', 'escondido', 'É', 'o', 'que', 'se', 'escondeu', 'E', 'o', 'que', 'foi', 'prometido', 'Ninguém', 'prometeu', 'Nem', 'foi', 'tempo', 'perdido', 'Somos', 'tão', 'jovens', 'Tão', 'jovens', 'Tão', 'jovens']\n"
     ]
    }
   ],
   "source": [
    "palavras = re.findall(r'\\b[\\wÀ-ÿ]+[áéíóúãõç]*', musica)\n",
    "print(palavras)"
   ]
  }
 ],
 "metadata": {
  "kernelspec": {
   "display_name": "Python 3 (ipykernel)",
   "language": "python",
   "name": "python3"
  },
  "language_info": {
   "codemirror_mode": {
    "name": "ipython",
    "version": 3
   },
   "file_extension": ".py",
   "mimetype": "text/x-python",
   "name": "python",
   "nbconvert_exporter": "python",
   "pygments_lexer": "ipython3",
   "version": "3.9.13"
  }
 },
 "nbformat": 4,
 "nbformat_minor": 5
}
