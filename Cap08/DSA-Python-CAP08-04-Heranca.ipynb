{
 "cells": [
  {
   "cell_type": "code",
   "execution_count": 1,
   "id": "c71743a3",
   "metadata": {},
   "outputs": [],
   "source": [
    "class Animal: #Super-Classe\n",
    "    \n",
    "    def __init__(self):\n",
    "        print(\"Animal Criado\")\n",
    "    def imprimir(self):\n",
    "        print(\"Este é um animal.\")\n",
    "    def comer(self):\n",
    "        print(\"Hora de comer.\")\n",
    "    def emitir_som(self):\n",
    "        pass"
   ]
  },
  {
   "cell_type": "code",
   "execution_count": 2,
   "id": "81c39593",
   "metadata": {},
   "outputs": [],
   "source": [
    "class Cachorro(Animal):\n",
    "    \n",
    "    def __init__(self):\n",
    "        Animal.__init__(self)\n",
    "        print(\"Objeto Cachorro criado\")\n",
    "        \n",
    "    def emitir_som(self):\n",
    "        print(\"Au au!\")"
   ]
  },
  {
   "cell_type": "code",
   "execution_count": 3,
   "id": "3c1fbfa8",
   "metadata": {},
   "outputs": [],
   "source": [
    "class Gato(Animal):\n",
    "    \n",
    "    def __init__(self):\n",
    "        Animal.__init__(self)\n",
    "        print(\"Objeto Gato criado\")\n",
    "        \n",
    "    def emitir_som(self):\n",
    "        print(\"Miau!\")"
   ]
  },
  {
   "cell_type": "code",
   "execution_count": 4,
   "id": "6c6cc968",
   "metadata": {},
   "outputs": [
    {
     "name": "stdout",
     "output_type": "stream",
     "text": [
      "Animal Criado\n",
      "Objeto Cachorro criado\n"
     ]
    }
   ],
   "source": [
    "rex = Cachorro()"
   ]
  },
  {
   "cell_type": "code",
   "execution_count": 5,
   "id": "d5466ba3",
   "metadata": {},
   "outputs": [
    {
     "name": "stdout",
     "output_type": "stream",
     "text": [
      "Animal Criado\n",
      "Objeto Gato criado\n"
     ]
    }
   ],
   "source": [
    "zeze = Gato()"
   ]
  },
  {
   "cell_type": "code",
   "execution_count": 6,
   "id": "72884959",
   "metadata": {},
   "outputs": [
    {
     "name": "stdout",
     "output_type": "stream",
     "text": [
      "Au au!\n"
     ]
    }
   ],
   "source": [
    "rex.emitir_som()"
   ]
  },
  {
   "cell_type": "code",
   "execution_count": 7,
   "id": "f497a5f3",
   "metadata": {},
   "outputs": [
    {
     "name": "stdout",
     "output_type": "stream",
     "text": [
      "Miau!\n"
     ]
    }
   ],
   "source": [
    "zeze.emitir_som()"
   ]
  },
  {
   "cell_type": "code",
   "execution_count": 8,
   "id": "09ed30bf",
   "metadata": {},
   "outputs": [
    {
     "name": "stdout",
     "output_type": "stream",
     "text": [
      "Este é um animal.\n"
     ]
    }
   ],
   "source": [
    "rex.imprimir()"
   ]
  },
  {
   "cell_type": "code",
   "execution_count": 9,
   "id": "978989d2",
   "metadata": {},
   "outputs": [
    {
     "name": "stdout",
     "output_type": "stream",
     "text": [
      "Hora de comer.\n"
     ]
    }
   ],
   "source": [
    "rex.comer()"
   ]
  }
 ],
 "metadata": {
  "kernelspec": {
   "display_name": "Python 3 (ipykernel)",
   "language": "python",
   "name": "python3"
  },
  "language_info": {
   "codemirror_mode": {
    "name": "ipython",
    "version": 3
   },
   "file_extension": ".py",
   "mimetype": "text/x-python",
   "name": "python",
   "nbconvert_exporter": "python",
   "pygments_lexer": "ipython3",
   "version": "3.9.13"
  }
 },
 "nbformat": 4,
 "nbformat_minor": 5
}
