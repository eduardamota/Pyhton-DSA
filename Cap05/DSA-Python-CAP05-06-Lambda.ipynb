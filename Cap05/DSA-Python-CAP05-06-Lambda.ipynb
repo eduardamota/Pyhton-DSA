{
 "cells": [
  {
   "cell_type": "markdown",
   "id": "a67226cc",
   "metadata": {},
   "source": [
    "# Expressão Lambda"
   ]
  },
  {
   "cell_type": "code",
   "execution_count": 1,
   "id": "02b41caf",
   "metadata": {},
   "outputs": [],
   "source": [
    "#Definindo uma função - 3 linha de código\n",
    "def pontencia (num):\n",
    "    resultado = num ** 2\n",
    "    return resultado"
   ]
  },
  {
   "cell_type": "code",
   "execution_count": 2,
   "id": "5a2abcf5",
   "metadata": {
    "scrolled": true
   },
   "outputs": [
    {
     "data": {
      "text/plain": [
       "25"
      ]
     },
     "execution_count": 2,
     "metadata": {},
     "output_type": "execute_result"
    }
   ],
   "source": [
    "pontencia (5)"
   ]
  },
  {
   "cell_type": "code",
   "execution_count": 3,
   "id": "5fbc9402",
   "metadata": {},
   "outputs": [],
   "source": [
    "#2 linhas de código\n",
    "def pontencia (num):\n",
    "    return num ** 2"
   ]
  },
  {
   "cell_type": "code",
   "execution_count": 4,
   "id": "a0a2f1d0",
   "metadata": {},
   "outputs": [
    {
     "data": {
      "text/plain": [
       "25"
      ]
     },
     "execution_count": 4,
     "metadata": {},
     "output_type": "execute_result"
    }
   ],
   "source": [
    "pontencia (5)"
   ]
  },
  {
   "cell_type": "code",
   "execution_count": 5,
   "id": "309a8485",
   "metadata": {},
   "outputs": [],
   "source": [
    "#1 linha de código\n",
    "def pontencia (num):return num ** 2"
   ]
  },
  {
   "cell_type": "code",
   "execution_count": 6,
   "id": "d93c9a3b",
   "metadata": {
    "scrolled": true
   },
   "outputs": [
    {
     "data": {
      "text/plain": [
       "25"
      ]
     },
     "execution_count": 6,
     "metadata": {},
     "output_type": "execute_result"
    }
   ],
   "source": [
    "pontencia (5)"
   ]
  },
  {
   "cell_type": "code",
   "execution_count": 7,
   "id": "e2bdca31",
   "metadata": {},
   "outputs": [],
   "source": [
    "#Definindo uma função lambda (função anônima), não precisamos nomear a função\n",
    "potencia = lambda num:num **2"
   ]
  },
  {
   "cell_type": "code",
   "execution_count": 8,
   "id": "ac43326a",
   "metadata": {
    "scrolled": true
   },
   "outputs": [
    {
     "data": {
      "text/plain": [
       "100"
      ]
     },
     "execution_count": 8,
     "metadata": {},
     "output_type": "execute_result"
    }
   ],
   "source": [
    "pontencia (10)"
   ]
  },
  {
   "cell_type": "code",
   "execution_count": 9,
   "id": "21091c46",
   "metadata": {},
   "outputs": [],
   "source": [
    "Par = lambda x: x%2 == 0"
   ]
  },
  {
   "cell_type": "code",
   "execution_count": 10,
   "id": "4fb10a55",
   "metadata": {},
   "outputs": [
    {
     "data": {
      "text/plain": [
       "True"
      ]
     },
     "execution_count": 10,
     "metadata": {},
     "output_type": "execute_result"
    }
   ],
   "source": [
    "Par (2)"
   ]
  },
  {
   "cell_type": "code",
   "execution_count": 11,
   "id": "6fb60b4f",
   "metadata": {},
   "outputs": [
    {
     "data": {
      "text/plain": [
       "False"
      ]
     },
     "execution_count": 11,
     "metadata": {},
     "output_type": "execute_result"
    }
   ],
   "source": [
    "Par (11)"
   ]
  },
  {
   "cell_type": "code",
   "execution_count": 12,
   "id": "354a903a",
   "metadata": {},
   "outputs": [],
   "source": [
    "first = lambda s: s[0]"
   ]
  },
  {
   "cell_type": "code",
   "execution_count": 13,
   "id": "262a7de6",
   "metadata": {},
   "outputs": [
    {
     "data": {
      "text/plain": [
       "'P'"
      ]
     },
     "execution_count": 13,
     "metadata": {},
     "output_type": "execute_result"
    }
   ],
   "source": [
    "first ('Python')"
   ]
  },
  {
   "cell_type": "code",
   "execution_count": 17,
   "id": "6515b58e",
   "metadata": {},
   "outputs": [],
   "source": [
    "reverso = lambda s: s[::-1]"
   ]
  },
  {
   "cell_type": "code",
   "execution_count": 18,
   "id": "826179ca",
   "metadata": {},
   "outputs": [
    {
     "data": {
      "text/plain": [
       "'nohtyP'"
      ]
     },
     "execution_count": 18,
     "metadata": {},
     "output_type": "execute_result"
    }
   ],
   "source": [
    "reverso('Python')"
   ]
  },
  {
   "cell_type": "code",
   "execution_count": 19,
   "id": "fae6674b",
   "metadata": {},
   "outputs": [],
   "source": [
    "addnum = lambda x,y : x+y"
   ]
  },
  {
   "cell_type": "code",
   "execution_count": 20,
   "id": "cd2ff83a",
   "metadata": {},
   "outputs": [
    {
     "data": {
      "text/plain": [
       "5"
      ]
     },
     "execution_count": 20,
     "metadata": {},
     "output_type": "execute_result"
    }
   ],
   "source": [
    "addnum (3,2)"
   ]
  }
 ],
 "metadata": {
  "kernelspec": {
   "display_name": "Python 3 (ipykernel)",
   "language": "python",
   "name": "python3"
  },
  "language_info": {
   "codemirror_mode": {
    "name": "ipython",
    "version": 3
   },
   "file_extension": ".py",
   "mimetype": "text/x-python",
   "name": "python",
   "nbconvert_exporter": "python",
   "pygments_lexer": "ipython3",
   "version": "3.9.13"
  }
 },
 "nbformat": 4,
 "nbformat_minor": 5
}
