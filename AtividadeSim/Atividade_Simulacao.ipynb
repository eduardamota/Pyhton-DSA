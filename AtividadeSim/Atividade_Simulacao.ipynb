{
 "cells": [
  {
   "cell_type": "markdown",
   "id": "16bd3d4f",
   "metadata": {},
   "source": [
    "## Atividade Final - Simulação "
   ]
  },
  {
   "cell_type": "code",
   "execution_count": 14,
   "id": "ceea851d",
   "metadata": {},
   "outputs": [],
   "source": [
    "!pip install -q openpyxl\n",
    "!pip install -q scikit-learn\n",
    "import pandas as pd\n",
    "from sklearn.linear_model import LinearRegression"
   ]
  },
  {
   "cell_type": "code",
   "execution_count": 5,
   "id": "7d5eb627",
   "metadata": {},
   "outputs": [],
   "source": [
    "df1 = pd.read_excel('dados1.xlsx')"
   ]
  },
  {
   "cell_type": "code",
   "execution_count": 6,
   "id": "21e8aeb2",
   "metadata": {},
   "outputs": [
    {
     "data": {
      "text/html": [
       "<div>\n",
       "<style scoped>\n",
       "    .dataframe tbody tr th:only-of-type {\n",
       "        vertical-align: middle;\n",
       "    }\n",
       "\n",
       "    .dataframe tbody tr th {\n",
       "        vertical-align: top;\n",
       "    }\n",
       "\n",
       "    .dataframe thead th {\n",
       "        text-align: right;\n",
       "    }\n",
       "</style>\n",
       "<table border=\"1\" class=\"dataframe\">\n",
       "  <thead>\n",
       "    <tr style=\"text-align: right;\">\n",
       "      <th></th>\n",
       "      <th>Y</th>\n",
       "      <th>X1</th>\n",
       "      <th>X2</th>\n",
       "    </tr>\n",
       "  </thead>\n",
       "  <tbody>\n",
       "    <tr>\n",
       "      <th>0</th>\n",
       "      <td>74.8</td>\n",
       "      <td>15.31</td>\n",
       "      <td>57.3</td>\n",
       "    </tr>\n",
       "    <tr>\n",
       "      <th>1</th>\n",
       "      <td>74.0</td>\n",
       "      <td>15.20</td>\n",
       "      <td>63.8</td>\n",
       "    </tr>\n",
       "    <tr>\n",
       "      <th>2</th>\n",
       "      <td>72.9</td>\n",
       "      <td>16.25</td>\n",
       "      <td>65.4</td>\n",
       "    </tr>\n",
       "    <tr>\n",
       "      <th>3</th>\n",
       "      <td>70.0</td>\n",
       "      <td>14.33</td>\n",
       "      <td>57.0</td>\n",
       "    </tr>\n",
       "    <tr>\n",
       "      <th>4</th>\n",
       "      <td>74.9</td>\n",
       "      <td>14.57</td>\n",
       "      <td>63.8</td>\n",
       "    </tr>\n",
       "  </tbody>\n",
       "</table>\n",
       "</div>"
      ],
      "text/plain": [
       "      Y     X1    X2\n",
       "0  74.8  15.31  57.3\n",
       "1  74.0  15.20  63.8\n",
       "2  72.9  16.25  65.4\n",
       "3  70.0  14.33  57.0\n",
       "4  74.9  14.57  63.8"
      ]
     },
     "execution_count": 6,
     "metadata": {},
     "output_type": "execute_result"
    }
   ],
   "source": [
    "df1.head()"
   ]
  },
  {
   "cell_type": "code",
   "execution_count": 7,
   "id": "6fe64074",
   "metadata": {},
   "outputs": [],
   "source": [
    "# Calcular a matriz de correlações\n",
    "correlation_matrix = df1.corr()"
   ]
  },
  {
   "cell_type": "code",
   "execution_count": 9,
   "id": "b20ef266",
   "metadata": {},
   "outputs": [
    {
     "name": "stdout",
     "output_type": "stream",
     "text": [
      "           Y        X1        X2\n",
      "Y   1.000000  0.913319  0.851384\n",
      "X1  0.913319  1.000000  0.925711\n",
      "X2  0.851384  0.925711  1.000000\n"
     ]
    }
   ],
   "source": [
    "#Letra (a) matriz de correlação\n",
    "print(correlation_matrix)"
   ]
  },
  {
   "attachments": {},
   "cell_type": "markdown",
   "id": "74a9b768",
   "metadata": {},
   "source": [
    "b)\n",
    "\n",
    "A correlação entre Y (Preço de vendas) e X1 (Preço de vendas) é de 0.913319. Essa correlação é bastante forte e positiva, o que indica que existe uma relação linear positiva entre essas duas variáveis. Isso significa que, em geral, à medida que o preço de vendas aumenta, o preço de vendas também tende a aumentar.\n",
    "\n",
    "A correlação entre Y (Preço de vendas) e X2 (Valor estimado) é de 0.851384. Essa correlação também é considerada forte e positiva, indicando uma relação linear positiva entre as duas variáveis. Isso implica que, em geral, à medida que o valor estimado aumenta, o preço de vendas também tende a aumentar.\n",
    "\n",
    "A correlação entre X1 (Preço de vendas) e X2 (Valor estimado) é de 0.925711. Mais uma vez, essa correlação é forte e positiva, sugerindo uma relação linear positiva entre as variáveis. Portanto, quando o preço de vendas aumenta, o valor estimado também tende a aumentar.\n",
    "\n",
    "Com base nessas informações, podemos concluir que existe uma correlação positiva e forte entre o preço de vendas (Y), o preço de vendas anterior (X1) e o valor estimado (X2). Isso sugere que essas variáveis estão relacionadas linearmente e têm influência uma sobre a outra."
   ]
  }
 ],
 "metadata": {
  "kernelspec": {
   "display_name": "Python 3 (ipykernel)",
   "language": "python",
   "name": "python3"
  },
  "language_info": {
   "codemirror_mode": {
    "name": "ipython",
    "version": 3
   },
   "file_extension": ".py",
   "mimetype": "text/x-python",
   "name": "python",
   "nbconvert_exporter": "python",
   "pygments_lexer": "ipython3",
   "version": "3.11.3"
  }
 },
 "nbformat": 4,
 "nbformat_minor": 5
}
