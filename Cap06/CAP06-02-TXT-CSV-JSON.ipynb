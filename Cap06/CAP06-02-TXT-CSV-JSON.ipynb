{
 "cells": [
  {
   "cell_type": "code",
   "execution_count": 1,
   "id": "ed8638c1",
   "metadata": {},
   "outputs": [],
   "source": [
    "texto = 'Cientista de dados pode ser uma excelente alternativa\\n'\n",
    "texto = texto + 'eles são top.\\n'\n",
    "texto += 'não esqueça que devem ser universais'"
   ]
  },
  {
   "cell_type": "code",
   "execution_count": 2,
   "id": "c56221ba",
   "metadata": {},
   "outputs": [
    {
     "name": "stdout",
     "output_type": "stream",
     "text": [
      "Cientista de dados pode ser uma excelente alternativa\n",
      "eles são top.\n",
      "não esqueça que devem ser universais\n"
     ]
    }
   ],
   "source": [
    "print(texto)"
   ]
  },
  {
   "cell_type": "code",
   "execution_count": 3,
   "id": "781ade39",
   "metadata": {},
   "outputs": [],
   "source": [
    "#Importando o módulo os\n",
    "import os"
   ]
  },
  {
   "cell_type": "code",
   "execution_count": 5,
   "id": "bfb344f5",
   "metadata": {},
   "outputs": [],
   "source": [
    "#Criando um arquivo\n",
    "arquivo = open(os.path.join('arquivo/cientista.txt'),'w')"
   ]
  },
  {
   "cell_type": "code",
   "execution_count": 6,
   "id": "11a38741",
   "metadata": {},
   "outputs": [],
   "source": [
    "for palavra in texto.split():\n",
    "    arquivo.write(palavra + '')"
   ]
  },
  {
   "cell_type": "code",
   "execution_count": 7,
   "id": "8762740a",
   "metadata": {},
   "outputs": [
    {
     "data": {
      "text/plain": [
       "<function TextIOWrapper.close()>"
      ]
     },
     "execution_count": 7,
     "metadata": {},
     "output_type": "execute_result"
    }
   ],
   "source": [
    "arquivo.close"
   ]
  },
  {
   "cell_type": "code",
   "execution_count": 11,
   "id": "0e3018cb",
   "metadata": {},
   "outputs": [
    {
     "name": "stdout",
     "output_type": "stream",
     "text": [
      "\n"
     ]
    }
   ],
   "source": [
    "arquivo = open('arquivo/cientista.txt','r')\n",
    "conteudo = arquivo.read()\n",
    "arquivo.close\n",
    "print(conteudo)"
   ]
  },
  {
   "cell_type": "markdown",
   "id": "d5c59556",
   "metadata": {},
   "source": [
    "## Expressão with\n",
    "O método close é executado automaticamente"
   ]
  },
  {
   "cell_type": "code",
   "execution_count": 13,
   "id": "5919f50d",
   "metadata": {},
   "outputs": [],
   "source": [
    "with open('arquivo/cientista.txt','r') as arquivo:\n",
    "    conteudo = arquivo.read()"
   ]
  },
  {
   "cell_type": "code",
   "execution_count": 14,
   "id": "4bfbd795",
   "metadata": {},
   "outputs": [
    {
     "name": "stdout",
     "output_type": "stream",
     "text": [
      "0\n"
     ]
    }
   ],
   "source": [
    "print(len(conteudo))"
   ]
  },
  {
   "cell_type": "code",
   "execution_count": 15,
   "id": "bce50348",
   "metadata": {},
   "outputs": [
    {
     "name": "stdout",
     "output_type": "stream",
     "text": [
      "\n"
     ]
    }
   ],
   "source": [
    "print(conteudo)"
   ]
  },
  {
   "cell_type": "code",
   "execution_count": 16,
   "id": "67bc2aeb",
   "metadata": {},
   "outputs": [],
   "source": [
    "with open('arquivo/cientista.txt','w') as arquivo:\n",
    "    arquivo.write(texto[:19])\n",
    "    arquivo.write('\\n')\n",
    "    arquivo.write(texto[28:19])"
   ]
  },
  {
   "cell_type": "code",
   "execution_count": 17,
   "id": "09e26a5a",
   "metadata": {},
   "outputs": [
    {
     "name": "stdout",
     "output_type": "stream",
     "text": [
      "Cientista de dados \n",
      "\n"
     ]
    }
   ],
   "source": [
    "arquivo = open ('arquivo/cientista.txt','r')\n",
    "conteudo = arquivo.read()\n",
    "arquivo.close()\n",
    "print(conteudo)"
   ]
  },
  {
   "cell_type": "markdown",
   "id": "16da77f1",
   "metadata": {},
   "source": [
    "## Manipulando CSV"
   ]
  },
  {
   "cell_type": "code",
   "execution_count": 18,
   "id": "9cca0961",
   "metadata": {},
   "outputs": [],
   "source": [
    "#Importando módulo csv\n",
    "import csv"
   ]
  },
  {
   "cell_type": "code",
   "execution_count": 20,
   "id": "bcace363",
   "metadata": {},
   "outputs": [],
   "source": [
    "with open('arquivo/numeros.csv','w') as arquivo:\n",
    "    \n",
    "    #Objeto de gravação\n",
    "    writer = csv.writer(arquivo)\n",
    "    #Grava no arquivo linha a linha\n",
    "    writer.writerow(('nota1','nota2','nota3'))\n",
    "    writer.writerow(('63','87','92'))\n",
    "    writer.writerow(('61','79','76'))\n",
    "    writer.writerow(('72','64','91'))"
   ]
  },
  {
   "cell_type": "code",
   "execution_count": 22,
   "id": "dd065a92",
   "metadata": {},
   "outputs": [
    {
     "name": "stdout",
     "output_type": "stream",
     "text": [
      "['nota1', 'nota2', 'nota3']\n",
      "['63', '87', '92']\n",
      "['61', '79', '76']\n",
      "['72', '64', '91']\n"
     ]
    }
   ],
   "source": [
    "with open ('arquivo/numeros.csv','r', encoding = 'utf8', newline = '\\r\\n') as arquivo:\n",
    "    leitor = csv.reader(arquivo) #Cria o objeto de leitura\n",
    "    for x in leitor:\n",
    "        print (x)"
   ]
  },
  {
   "cell_type": "code",
   "execution_count": 2,
   "id": "3c86a919",
   "metadata": {},
   "outputs": [
    {
     "ename": "NameError",
     "evalue": "name 'csv' is not defined",
     "output_type": "error",
     "traceback": [
      "\u001b[1;31m---------------------------------------------------------------------------\u001b[0m",
      "\u001b[1;31mNameError\u001b[0m                                 Traceback (most recent call last)",
      "\u001b[1;32m~\\AppData\\Local\\Temp\\ipykernel_11404\\1349377776.py\u001b[0m in \u001b[0;36m<module>\u001b[1;34m\u001b[0m\n\u001b[0;32m      1\u001b[0m \u001b[1;31m#Gerando uma lista de dados com csv\u001b[0m\u001b[1;33m\u001b[0m\u001b[1;33m\u001b[0m\u001b[0m\n\u001b[0;32m      2\u001b[0m \u001b[1;32mwith\u001b[0m \u001b[0mopen\u001b[0m\u001b[1;33m(\u001b[0m\u001b[1;34m'arquivo/numeros.csv'\u001b[0m\u001b[1;33m,\u001b[0m\u001b[1;34m'r'\u001b[0m\u001b[1;33m)\u001b[0m \u001b[1;32mas\u001b[0m \u001b[0marquivo\u001b[0m\u001b[1;33m:\u001b[0m\u001b[1;33m\u001b[0m\u001b[1;33m\u001b[0m\u001b[0m\n\u001b[1;32m----> 3\u001b[1;33m     \u001b[0mleitor\u001b[0m \u001b[1;33m=\u001b[0m \u001b[0mcsv\u001b[0m\u001b[1;33m.\u001b[0m\u001b[0mreader\u001b[0m\u001b[1;33m(\u001b[0m\u001b[0marquivo\u001b[0m\u001b[1;33m)\u001b[0m\u001b[1;33m\u001b[0m\u001b[1;33m\u001b[0m\u001b[0m\n\u001b[0m\u001b[0;32m      4\u001b[0m     \u001b[0mdados\u001b[0m \u001b[1;33m=\u001b[0m \u001b[0mlist\u001b[0m\u001b[1;33m(\u001b[0m\u001b[0mleitor\u001b[0m\u001b[1;33m)\u001b[0m\u001b[1;33m\u001b[0m\u001b[1;33m\u001b[0m\u001b[0m\n",
      "\u001b[1;31mNameError\u001b[0m: name 'csv' is not defined"
     ]
    }
   ],
   "source": [
    "#Gerando uma lista de dados com csv\n",
    "with open('arquivo/numeros.csv','r') as arquivo:\n",
    "    leitor = csv.reader(arquivo)\n",
    "    dados = list(leitor)"
   ]
  },
  {
   "cell_type": "code",
   "execution_count": 24,
   "id": "91350804",
   "metadata": {
    "scrolled": true
   },
   "outputs": [
    {
     "name": "stdout",
     "output_type": "stream",
     "text": [
      "[['nota1', 'nota2', 'nota3'], [], ['63', '87', '92'], [], ['61', '79', '76'], [], ['72', '64', '91'], []]\n"
     ]
    }
   ],
   "source": [
    "print(dados)"
   ]
  },
  {
   "cell_type": "code",
   "execution_count": null,
   "id": "1b7d77c1",
   "metadata": {},
   "outputs": [],
   "source": [
    "for linha in dados [1:]:\n",
    "    print(linha)"
   ]
  },
  {
   "cell_type": "markdown",
   "id": "34bbf4ed",
   "metadata": {},
   "source": [
    "## Manipulando Json"
   ]
  },
  {
   "cell_type": "code",
   "execution_count": 4,
   "id": "b88d3eb7",
   "metadata": {},
   "outputs": [],
   "source": [
    "dict_guido = {'nome': 'Guido van Rossum',\n",
    "              'linguagem': 'Python',\n",
    "              'Similar': ['c', 'Modula-2', 'lisp'],\n",
    "              'users': 100000}\n"
   ]
  },
  {
   "cell_type": "code",
   "execution_count": 5,
   "id": "71e82fae",
   "metadata": {
    "scrolled": true
   },
   "outputs": [
    {
     "name": "stdout",
     "output_type": "stream",
     "text": [
      "nome Guido van Rossum\n",
      "linguagem Python\n",
      "Similar ['c', 'Modula-2', 'lisp']\n",
      "users 100000\n"
     ]
    }
   ],
   "source": [
    "for k,v in dict_guido.items():\n",
    "    print(k,v)"
   ]
  },
  {
   "cell_type": "code",
   "execution_count": 6,
   "id": "8bae732e",
   "metadata": {},
   "outputs": [],
   "source": [
    "import json"
   ]
  },
  {
   "cell_type": "code",
   "execution_count": 7,
   "id": "3d7531b8",
   "metadata": {},
   "outputs": [
    {
     "data": {
      "text/plain": [
       "'{\"nome\": \"Guido van Rossum\", \"linguagem\": \"Python\", \"Similar\": [\"c\", \"Modula-2\", \"lisp\"], \"users\": 100000}'"
      ]
     },
     "execution_count": 7,
     "metadata": {},
     "output_type": "execute_result"
    }
   ],
   "source": [
    "json.dumps(dict_guido) #transforma dicionário para json"
   ]
  },
  {
   "cell_type": "code",
   "execution_count": 12,
   "id": "4bd7ab15",
   "metadata": {},
   "outputs": [],
   "source": [
    "#Criando um arquivo json\n",
    "with open('arquivo/dados.json','w') as arquivo:\n",
    "    arquivo.write(json.dumps(dict_guido))"
   ]
  },
  {
   "cell_type": "code",
   "execution_count": 15,
   "id": "5eef7fe1",
   "metadata": {},
   "outputs": [],
   "source": [
    "#Leitura de arquivos json\n",
    "with open('arquivo/dados.json','r') as arquivo:\n",
    "    texto = arquivo.read()\n",
    "    dados = json.loads(texto) #carrega o conteúdo do texto em formato json"
   ]
  },
  {
   "cell_type": "code",
   "execution_count": 16,
   "id": "dd3f3e5b",
   "metadata": {},
   "outputs": [
    {
     "data": {
      "text/plain": [
       "{'nome': 'Guido van Rossum',\n",
       " 'linguagem': 'Python',\n",
       " 'Similar': ['c', 'Modula-2', 'lisp'],\n",
       " 'users': 100000}"
      ]
     },
     "execution_count": 16,
     "metadata": {},
     "output_type": "execute_result"
    }
   ],
   "source": [
    "dados"
   ]
  },
  {
   "cell_type": "code",
   "execution_count": 17,
   "id": "f41c45fb",
   "metadata": {
    "scrolled": true
   },
   "outputs": [
    {
     "name": "stdout",
     "output_type": "stream",
     "text": [
      "Guido van Rossum\n"
     ]
    }
   ],
   "source": [
    "print(dados['nome'])"
   ]
  },
  {
   "cell_type": "markdown",
   "id": "123bd99f",
   "metadata": {},
   "source": [
    "## Extração de Arquivo da Web"
   ]
  },
  {
   "cell_type": "code",
   "execution_count": 19,
   "id": "4e503311",
   "metadata": {},
   "outputs": [],
   "source": [
    "#Imprimindo um arquivo JSON copiando da internet \n",
    "\n",
    "from urllib.request import urlopen #importanto o pacote\n",
    "\n",
    "response = urlopen(\"https://vimeo.com/api/v2/video/57733101.json\").read().decode('utf8')\n",
    "dados = json.loads(response)[0]"
   ]
  },
  {
   "cell_type": "code",
   "execution_count": 20,
   "id": "c354daec",
   "metadata": {},
   "outputs": [
    {
     "data": {
      "text/plain": [
       "{'id': 57733101,\n",
       " 'title': 'The Good Man trailer',\n",
       " 'description': 'Trailer for the Manifesto Films production, The Good Man, now available in UK/Ireland/US/Canada/Australia/New Zealand on iTunes (https://itunes.apple.com/us/movie/the-good-man/id873130906) and DVD (http://www.amazon.co.uk/The-Good-Man-Aiden-Gillen/dp/B00IIK6CGU/). Co-production with Jet Black Entertainment (South Africa). Starring Aidan Gillen, Thabang Sidloyi, Kelly Campbell, Lunathi Mampofu. Written & directed by Phil Harrison. More info at www.thegoodmanfilm.com<br />\\r\\n<br />\\r\\nCheck out the Variety Magazine review here: http://www.variety.com/review/VE1117947909/',\n",
       " 'url': 'https://vimeo.com/57733101',\n",
       " 'upload_date': '2013-01-19 04:01:15',\n",
       " 'thumbnail_small': 'https://i.vimeocdn.com/video/436057121-e828a1f5478ec0136e957753d107f2a1268c64def9b82faac37c8e30c031cff2-d_100x75',\n",
       " 'thumbnail_medium': 'https://i.vimeocdn.com/video/436057121-e828a1f5478ec0136e957753d107f2a1268c64def9b82faac37c8e30c031cff2-d_200x150',\n",
       " 'thumbnail_large': 'https://i.vimeocdn.com/video/436057121-e828a1f5478ec0136e957753d107f2a1268c64def9b82faac37c8e30c031cff2-d_640',\n",
       " 'user_id': 1334563,\n",
       " 'user_name': 'Manifesto Films',\n",
       " 'user_url': 'https://vimeo.com/manifestofilms',\n",
       " 'user_portrait_small': 'https://i.vimeocdn.com/portrait/4778306_30x30',\n",
       " 'user_portrait_medium': 'https://i.vimeocdn.com/portrait/4778306_75x75',\n",
       " 'user_portrait_large': 'https://i.vimeocdn.com/portrait/4778306_100x100',\n",
       " 'user_portrait_huge': 'https://i.vimeocdn.com/portrait/4778306_300x300',\n",
       " 'stats_number_of_likes': 17,\n",
       " 'stats_number_of_plays': 6586,\n",
       " 'stats_number_of_comments': 0,\n",
       " 'duration': 143,\n",
       " 'width': 1024,\n",
       " 'height': 576,\n",
       " 'tags': 'belfast, cape town, africa, ireland, film',\n",
       " 'embed_privacy': 'anywhere'}"
      ]
     },
     "execution_count": 20,
     "metadata": {},
     "output_type": "execute_result"
    }
   ],
   "source": [
    "dados"
   ]
  },
  {
   "cell_type": "code",
   "execution_count": 23,
   "id": "a715aa19",
   "metadata": {},
   "outputs": [
    {
     "name": "stdout",
     "output_type": "stream",
     "text": [
      "Título: The Good Man trailer\n",
      "URL: https://vimeo.com/57733101\n",
      "Duração: 143\n",
      "Número de Visualizações: 6586\n"
     ]
    }
   ],
   "source": [
    "print('Título:',dados['title'])\n",
    "print('URL:',dados['url'])\n",
    "print('Duração:',dados['duration'])\n",
    "print('Número de Visualizações:',dados['stats_number_of_plays'])"
   ]
  },
  {
   "cell_type": "markdown",
   "id": "924fb2e8",
   "metadata": {},
   "source": [
    "### Copiando o conteúdo de um arquivo para outro"
   ]
  },
  {
   "cell_type": "code",
   "execution_count": 28,
   "id": "9879faf5",
   "metadata": {},
   "outputs": [],
   "source": [
    "#Vou trocar os formatos\n",
    "\n",
    "arquivo_fonte = 'arquivo/dados.json'\n",
    "arquivo_destino = 'arquivo/dados.txt'"
   ]
  },
  {
   "cell_type": "code",
   "execution_count": 29,
   "id": "423917ea",
   "metadata": {},
   "outputs": [],
   "source": [
    "# Método 1 \n",
    "with open (arquivo_fonte, 'r') as infile:\n",
    "    text = infile.read()\n",
    "    with open(arquivo_destino,'w') as outfile:\n",
    "        outfile.write(text)"
   ]
  },
  {
   "cell_type": "code",
   "execution_count": 30,
   "id": "36a8a518",
   "metadata": {},
   "outputs": [
    {
     "data": {
      "text/plain": [
       "106"
      ]
     },
     "execution_count": 30,
     "metadata": {},
     "output_type": "execute_result"
    }
   ],
   "source": [
    "#Método 2\n",
    "open(arquivo_destino,'w').write(open(arquivo_fonte,'r').read())"
   ]
  },
  {
   "cell_type": "code",
   "execution_count": 32,
   "id": "3320a345",
   "metadata": {},
   "outputs": [],
   "source": [
    "#Leitura do arquivo txt\n",
    "with open('arquivo/dados.txt','r') as arquivo:\n",
    "    texto = arquivo.read()\n",
    "    dados = json.loads(texto)"
   ]
  },
  {
   "cell_type": "code",
   "execution_count": 33,
   "id": "afb28707",
   "metadata": {
    "scrolled": true
   },
   "outputs": [
    {
     "name": "stdout",
     "output_type": "stream",
     "text": [
      "{'nome': 'Guido van Rossum', 'linguagem': 'Python', 'Similar': ['c', 'Modula-2', 'lisp'], 'users': 100000}\n"
     ]
    }
   ],
   "source": [
    "print(dados)"
   ]
  },
  {
   "cell_type": "code",
   "execution_count": null,
   "id": "0cc431cd",
   "metadata": {},
   "outputs": [],
   "source": []
  }
 ],
 "metadata": {
  "kernelspec": {
   "display_name": "Python 3 (ipykernel)",
   "language": "python",
   "name": "python3"
  },
  "language_info": {
   "codemirror_mode": {
    "name": "ipython",
    "version": 3
   },
   "file_extension": ".py",
   "mimetype": "text/x-python",
   "name": "python",
   "nbconvert_exporter": "python",
   "pygments_lexer": "ipython3",
   "version": "3.9.13"
  }
 },
 "nbformat": 4,
 "nbformat_minor": 5
}
