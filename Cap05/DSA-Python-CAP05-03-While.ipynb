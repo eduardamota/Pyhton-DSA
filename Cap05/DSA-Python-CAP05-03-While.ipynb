{
 "cells": [
  {
   "cell_type": "code",
   "execution_count": 1,
   "id": "e145fb31",
   "metadata": {},
   "outputs": [
    {
     "name": "stdout",
     "output_type": "stream",
     "text": [
      "0\n",
      "1\n",
      "2\n",
      "3\n",
      "4\n",
      "5\n",
      "6\n",
      "7\n",
      "8\n",
      "9\n"
     ]
    }
   ],
   "source": [
    "valor = 0\n",
    "while valor < 10:\n",
    "    print (valor)\n",
    "    valor = valor +1"
   ]
  },
  {
   "cell_type": "code",
   "execution_count": 12,
   "id": "d1eb83c5",
   "metadata": {},
   "outputs": [],
   "source": [
    "valor = 11\n",
    "while valor <10:\n",
    "    print(valor)\n",
    "    valor+=1"
   ]
  },
  {
   "cell_type": "code",
   "execution_count": 13,
   "id": "343bf8e1",
   "metadata": {},
   "outputs": [
    {
     "name": "stdout",
     "output_type": "stream",
     "text": [
      "O valor na interação é: 0\n",
      "x ainda é maior que 10, somando 1 a x\n",
      "O valor na interação é: 1\n",
      "x ainda é maior que 10, somando 1 a x\n",
      "O valor na interação é: 2\n",
      "x ainda é maior que 10, somando 1 a x\n",
      "O valor na interação é: 3\n",
      "x ainda é maior que 10, somando 1 a x\n",
      "O valor na interação é: 4\n",
      "x ainda é maior que 10, somando 1 a x\n",
      "O valor na interação é: 5\n",
      "x ainda é maior que 10, somando 1 a x\n",
      "O valor na interação é: 6\n",
      "x ainda é maior que 10, somando 1 a x\n",
      "O valor na interação é: 7\n",
      "x ainda é maior que 10, somando 1 a x\n",
      "O valor na interação é: 8\n",
      "x ainda é maior que 10, somando 1 a x\n",
      "O valor na interação é: 9\n",
      "x ainda é maior que 10, somando 1 a x\n",
      "Loop concluído:\n",
      "10\n"
     ]
    }
   ],
   "source": [
    "x =0\n",
    "\n",
    "while x <10:\n",
    "    print('O valor na interação é:', x)\n",
    "    print('x ainda é maior que 10, somando 1 a x')\n",
    "    x+=1\n",
    "else:\n",
    "    print('Loop concluído:')\n",
    "print (x)"
   ]
  },
  {
   "cell_type": "markdown",
   "id": "0308ce75",
   "metadata": {},
   "source": [
    "# Pass, break, continue"
   ]
  },
  {
   "cell_type": "code",
   "execution_count": 26,
   "id": "1215aa98",
   "metadata": {},
   "outputs": [],
   "source": [
    "valor = 0\n",
    "while valor <10:\n",
    "    if valor <4:\n",
    "        break\n",
    "    else:\n",
    "        pass\n",
    "    print (valor)\n",
    "    valor +=1"
   ]
  },
  {
   "cell_type": "code",
   "execution_count": 28,
   "id": "ca5866b2",
   "metadata": {
    "scrolled": true
   },
   "outputs": [
    {
     "name": "stdout",
     "output_type": "stream",
     "text": [
      "P\n",
      "r\n",
      "o\n",
      "j\n",
      "e\n",
      "t\n",
      "o\n",
      " \n",
      "e\n",
      "m\n",
      " \n",
      "p\n",
      "r\n",
      "h\n",
      "o\n",
      "n\n",
      " \n",
      "é\n",
      " \n",
      "l\n",
      "o\n",
      "u\n",
      "c\n",
      "o\n"
     ]
    }
   ],
   "source": [
    "for letra in 'Projeto em pyrhon é louco':\n",
    "    if letra == 'y':\n",
    "        continue \n",
    "    print(letra)"
   ]
  },
  {
   "cell_type": "code",
   "execution_count": 31,
   "id": "2a040d87",
   "metadata": {},
   "outputs": [
    {
     "name": "stdout",
     "output_type": "stream",
     "text": [
      "[2, 3, 5, 7, 11, 13, 17, 19, 23, 29]\n",
      "Wall time: 0 ns\n"
     ]
    }
   ],
   "source": [
    "%%time \n",
    "\n",
    "primo = []\n",
    "for num in range (2,31):\n",
    "    eh_primo = True #variável de controle\n",
    "    \n",
    "    i = 2 #Loop para verificar se o número é primo\n",
    "    while i <= num//2:\n",
    "        if num % i == 0:\n",
    "            eh_primo = False\n",
    "            break\n",
    "        i+=1\n",
    "    \n",
    "    if eh_primo:\n",
    "        primo.append(num)\n",
    "print(primo)    \n",
    "\n",
    "    "
   ]
  },
  {
   "cell_type": "code",
   "execution_count": null,
   "id": "f3dc7968",
   "metadata": {},
   "outputs": [],
   "source": [
    "%% time\n",
    "\n",
    "primos =[]\n",
    "for num in range (2,31):\n",
    "    "
   ]
  }
 ],
 "metadata": {
  "kernelspec": {
   "display_name": "Python 3 (ipykernel)",
   "language": "python",
   "name": "python3"
  },
  "language_info": {
   "codemirror_mode": {
    "name": "ipython",
    "version": 3
   },
   "file_extension": ".py",
   "mimetype": "text/x-python",
   "name": "python",
   "nbconvert_exporter": "python",
   "pygments_lexer": "ipython3",
   "version": "3.9.13"
  }
 },
 "nbformat": 4,
 "nbformat_minor": 5
}
