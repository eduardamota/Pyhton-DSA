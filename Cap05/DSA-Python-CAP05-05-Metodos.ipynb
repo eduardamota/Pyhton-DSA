{
 "cells": [
  {
   "cell_type": "markdown",
   "id": "0cbe554c",
   "metadata": {},
   "source": [
    "# Métodos\n",
    "Tudo em Python é objeto. E cada objeto tem métodos e atributos."
   ]
  },
  {
   "cell_type": "code",
   "execution_count": 1,
   "id": "e730b33f",
   "metadata": {},
   "outputs": [],
   "source": [
    "lista = [100,-2,12,65,0]"
   ]
  },
  {
   "cell_type": "code",
   "execution_count": 2,
   "id": "9269a458",
   "metadata": {},
   "outputs": [
    {
     "data": {
      "text/plain": [
       "list"
      ]
     },
     "execution_count": 2,
     "metadata": {},
     "output_type": "execute_result"
    }
   ],
   "source": [
    "type(lista)"
   ]
  },
  {
   "cell_type": "code",
   "execution_count": 3,
   "id": "9c087390",
   "metadata": {},
   "outputs": [
    {
     "data": {
      "text/plain": [
       "[100, -2, 12, 65, 0]"
      ]
     },
     "execution_count": 3,
     "metadata": {},
     "output_type": "execute_result"
    }
   ],
   "source": [
    "lista"
   ]
  },
  {
   "cell_type": "code",
   "execution_count": 4,
   "id": "7bc832e0",
   "metadata": {},
   "outputs": [],
   "source": [
    "lista.append(100)"
   ]
  },
  {
   "cell_type": "code",
   "execution_count": 5,
   "id": "91bd69f8",
   "metadata": {},
   "outputs": [
    {
     "name": "stdout",
     "output_type": "stream",
     "text": [
      "[100, -2, 12, 65, 0, 100]\n"
     ]
    }
   ],
   "source": [
    "print(lista)"
   ]
  },
  {
   "cell_type": "code",
   "execution_count": 6,
   "id": "304a57af",
   "metadata": {},
   "outputs": [
    {
     "data": {
      "text/plain": [
       "2"
      ]
     },
     "execution_count": 6,
     "metadata": {},
     "output_type": "execute_result"
    }
   ],
   "source": [
    "lista.count(100)"
   ]
  },
  {
   "cell_type": "code",
   "execution_count": 7,
   "id": "07f9997f",
   "metadata": {},
   "outputs": [],
   "source": [
    "frase = 'Isso é sting'"
   ]
  },
  {
   "cell_type": "code",
   "execution_count": 8,
   "id": "f3231c4b",
   "metadata": {},
   "outputs": [
    {
     "data": {
      "text/plain": [
       "str"
      ]
     },
     "execution_count": 8,
     "metadata": {},
     "output_type": "execute_result"
    }
   ],
   "source": [
    "type (frase)"
   ]
  },
  {
   "cell_type": "code",
   "execution_count": 11,
   "id": "3d31171f",
   "metadata": {},
   "outputs": [
    {
     "name": "stdout",
     "output_type": "stream",
     "text": [
      "['Isso', 'é', 'sting']\n"
     ]
    }
   ],
   "source": [
    "print(frase.split())"
   ]
  }
 ],
 "metadata": {
  "kernelspec": {
   "display_name": "Python 3 (ipykernel)",
   "language": "python",
   "name": "python3"
  },
  "language_info": {
   "codemirror_mode": {
    "name": "ipython",
    "version": 3
   },
   "file_extension": ".py",
   "mimetype": "text/x-python",
   "name": "python",
   "nbconvert_exporter": "python",
   "pygments_lexer": "ipython3",
   "version": "3.9.13"
  }
 },
 "nbformat": 4,
 "nbformat_minor": 5
}
