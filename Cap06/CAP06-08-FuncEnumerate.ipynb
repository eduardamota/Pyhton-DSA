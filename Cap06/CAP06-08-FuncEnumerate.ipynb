{
 "cells": [
  {
   "cell_type": "markdown",
   "id": "fb4fc726",
   "metadata": {},
   "source": [
    "### Função Enumerate\n"
   ]
  },
  {
   "cell_type": "code",
   "execution_count": 1,
   "id": "965c9794",
   "metadata": {},
   "outputs": [],
   "source": [
    "seq = ['a,','b','c']"
   ]
  },
  {
   "cell_type": "code",
   "execution_count": 2,
   "id": "a413ceea",
   "metadata": {},
   "outputs": [
    {
     "data": {
      "text/plain": [
       "<enumerate at 0x23c29c6c840>"
      ]
     },
     "execution_count": 2,
     "metadata": {},
     "output_type": "execute_result"
    }
   ],
   "source": [
    "enumerate(seq)"
   ]
  },
  {
   "cell_type": "code",
   "execution_count": 4,
   "id": "00b383d9",
   "metadata": {},
   "outputs": [
    {
     "data": {
      "text/plain": [
       "[(0, 'a,'), (1, 'b'), (2, 'c')]"
      ]
     },
     "execution_count": 4,
     "metadata": {},
     "output_type": "execute_result"
    }
   ],
   "source": [
    "list(enumerate(seq)) #ele retorna um índice relacionado a cada item"
   ]
  },
  {
   "cell_type": "code",
   "execution_count": 5,
   "id": "3275f0a8",
   "metadata": {
    "scrolled": true
   },
   "outputs": [
    {
     "name": "stdout",
     "output_type": "stream",
     "text": [
      "0 a,\n",
      "1 b\n",
      "2 c\n"
     ]
    }
   ],
   "source": [
    "for indice,valor in enumerate(seq):\n",
    "    print(indice,valor)"
   ]
  },
  {
   "cell_type": "code",
   "execution_count": 6,
   "id": "ad1b921b",
   "metadata": {},
   "outputs": [
    {
     "name": "stdout",
     "output_type": "stream",
     "text": [
      "a,\n",
      "b\n"
     ]
    }
   ],
   "source": [
    "for indice,valor in enumerate(seq):\n",
    "    if indice >=2:\n",
    "        break\n",
    "    else:\n",
    "        print(valor)"
   ]
  },
  {
   "cell_type": "code",
   "execution_count": 11,
   "id": "25173fa6",
   "metadata": {},
   "outputs": [],
   "source": [
    "lista =['Amor','Tecnologia','Dados']"
   ]
  },
  {
   "cell_type": "code",
   "execution_count": 13,
   "id": "cf82bc15",
   "metadata": {},
   "outputs": [
    {
     "name": "stdout",
     "output_type": "stream",
     "text": [
      "0 Amor\n",
      "1 Tecnologia\n",
      "2 Dados\n"
     ]
    }
   ],
   "source": [
    "for i, item in enumerate (lista):\n",
    "    print(i, item )"
   ]
  },
  {
   "cell_type": "code",
   "execution_count": 16,
   "id": "4f52cf89",
   "metadata": {},
   "outputs": [
    {
     "name": "stdout",
     "output_type": "stream",
     "text": [
      "0 D\n",
      "1 a\n",
      "2 t\n",
      "3 a\n",
      "4  \n",
      "5 S\n",
      "6 c\n",
      "7 i\n",
      "8 e\n",
      "9 n\n",
      "10 c\n",
      "11 e\n",
      "12  \n",
      "13 A\n",
      "14 c\n",
      "15 a\n",
      "16 d\n",
      "17 e\n",
      "18 m\n",
      "19 y\n"
     ]
    }
   ],
   "source": [
    "for i, item in enumerate ('Data Science Academy'):\n",
    "    print(i,item)"
   ]
  },
  {
   "cell_type": "code",
   "execution_count": 17,
   "id": "9eccaed2",
   "metadata": {},
   "outputs": [
    {
     "name": "stdout",
     "output_type": "stream",
     "text": [
      "0 0\n",
      "1 1\n",
      "2 2\n",
      "3 3\n",
      "4 4\n",
      "5 5\n",
      "6 6\n",
      "7 7\n",
      "8 8\n",
      "9 9\n"
     ]
    }
   ],
   "source": [
    "for i, item in enumerate(range(10)):\n",
    "    print(i, item )"
   ]
  }
 ],
 "metadata": {
  "kernelspec": {
   "display_name": "Python 3 (ipykernel)",
   "language": "python",
   "name": "python3"
  },
  "language_info": {
   "codemirror_mode": {
    "name": "ipython",
    "version": 3
   },
   "file_extension": ".py",
   "mimetype": "text/x-python",
   "name": "python",
   "nbconvert_exporter": "python",
   "pygments_lexer": "ipython3",
   "version": "3.9.13"
  }
 },
 "nbformat": 4,
 "nbformat_minor": 5
}
