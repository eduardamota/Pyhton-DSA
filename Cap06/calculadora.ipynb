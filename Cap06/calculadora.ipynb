{
 "cells": [
  {
   "cell_type": "markdown",
   "id": "3b0e7d5a",
   "metadata": {},
   "source": [
    "# Lab02 \n",
    "Criando uma calculadora em python"
   ]
  },
  {
   "cell_type": "code",
   "execution_count": null,
   "id": "3389fd58",
   "metadata": {},
   "outputs": [],
   "source": [
    "tipo = float(input(\"Selecione o número da operação desejada: \\n\\n 1- Soma \\n 2- Subtração \\n 3- Multiplicação \\n 4 - divisão \\n\\n\" \n",
    "            ))\n",
    "if tipo == 1:\n",
    "    op1 = float(input(\"Digite sua primeira opção: \"))\n",
    "    op2 = float(input(\"Digite sua segunda opção: \"))\n",
    "    Resultado = op1 + op2 \n",
    "    print (\"O resultado é:\", Resultado)\n",
    "\n",
    "elif tipo == 2:\n",
    "    op1 = float(input(\"Digite sua primeira opção: \"))\n",
    "    op2 = float(input(\"Digite sua segunda opção: \"))\n",
    "    Resultado = op1 - op2 \n",
    "    print (\"O resultado é:\", Resultado)\n",
    "\n",
    "elif tipo == 3:\n",
    "    op1 = float(input(\"Digite sua primeira opção: \"))\n",
    "    op2 = float(input(\"Digite sua segunda opção: \"))\n",
    "    Resultado = op1 * op2 \n",
    "    print (\"O resultado é:\", Resultado)\n",
    "\n",
    "elif tipo == 4:\n",
    "    op1 = float(input(\"Digite sua primeira opção: \"))\n",
    "    op2 = float(input(\"Digite sua segunda opção: \"))\n",
    "    Resultado = op1 / op2 \n",
    "    print (\"O resultado é:\", Resultado)\n",
    "\n",
    "else:\n",
    "  print(\"Operação inválida!\")"
   ]
  },
  {
   "cell_type": "code",
   "execution_count": 4,
   "id": "c53e06e6",
   "metadata": {},
   "outputs": [
    {
     "name": "stdout",
     "output_type": "stream",
     "text": [
      "\n",
      "***********Python Calculator***********\n",
      "\n",
      " Selecione a operação desejada: \n",
      "1 - Soma\n",
      "2 - Subtração\n",
      "3 - Multiplicação\n",
      "4 - Divisão\n",
      "\n",
      " Digite sua opção (1/2/3/4)5\n",
      "\n",
      "Digite o primeiro número: 2\n",
      "\n",
      "Digite o segundo número: 2\n",
      "Opção inválida!\n"
     ]
    }
   ],
   "source": [
    "# Versão do data science academy\n",
    "print(\"\\n***********Python Calculator***********\")\n",
    "\n",
    "def add (x,y):\n",
    "    return x+y\n",
    "\n",
    "def subtract(x,y):\n",
    "    x-y\n",
    "\n",
    "def multiply(x,y):\n",
    "    x*y\n",
    "\n",
    "def divide(x,y):\n",
    "    x / y\n",
    "\n",
    "print(\"\\n Selecione a operação desejada: \")\n",
    "print(\"1 - Soma\")\n",
    "print(\"2 - Subtração\") \n",
    "print(\"3 - Multiplicação\")\n",
    "print(\"4 - Divisão\")\n",
    "\n",
    "escolha = input(\"\\n Digite sua opção (1/2/3/4)\")\n",
    "num1 = int(input(\"\\nDigite o primeiro número: \"))\n",
    "num2 = int(input(\"\\nDigite o segundo número: \"))\n",
    "\n",
    "if escolha =='1':\n",
    "    print(\"\\n\")\n",
    "    print(num1, \"+\",num2, \"=\",add(num1,num2))\n",
    "    print(\"\\n\")\n",
    "\n",
    "elif escolha =='2':\n",
    "    print(\"\\n\")\n",
    "    print(num1, \"-\",num2, \"=\",subtract(num1,num2))\n",
    "    print(\"\\n\")\n",
    "\n",
    "elif escolha =='3':\n",
    "    print(\"\\n\")\n",
    "    print(num1, \"*\",num2, \"=\",multiply(num1,num2))\n",
    "    print(\"\\n\")\n",
    "    \n",
    "elif escolha =='4':\n",
    "    print(\"\\n\")\n",
    "    print(num1, \"/\",num2, \"=\",divide(num1,num2))\n",
    "    print(\"\\n\")\n",
    "\n",
    "else:\n",
    "    print(\"Opção inválida!\")"
   ]
  },
  {
   "cell_type": "code",
   "execution_count": null,
   "id": "fc9b5532",
   "metadata": {},
   "outputs": [],
   "source": []
  }
 ],
 "metadata": {
  "kernelspec": {
   "display_name": "Python 3 (ipykernel)",
   "language": "python",
   "name": "python3"
  },
  "language_info": {
   "codemirror_mode": {
    "name": "ipython",
    "version": 3
   },
   "file_extension": ".py",
   "mimetype": "text/x-python",
   "name": "python",
   "nbconvert_exporter": "python",
   "pygments_lexer": "ipython3",
   "version": "3.9.13"
  }
 },
 "nbformat": 4,
 "nbformat_minor": 5
}
