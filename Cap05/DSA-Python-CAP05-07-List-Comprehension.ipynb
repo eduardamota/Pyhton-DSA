{
 "cells": [
  {
   "cell_type": "markdown",
   "id": "3be8261d",
   "metadata": {},
   "source": [
    "# List Comprehension\n",
    "expressão for item iterable if condição == true"
   ]
  },
  {
   "cell_type": "code",
   "execution_count": 2,
   "id": "3553ce6d",
   "metadata": {},
   "outputs": [
    {
     "data": {
      "text/plain": [
       "[0, 1, 2, 3, 4, 5, 6, 7, 8, 9]"
      ]
     },
     "execution_count": 2,
     "metadata": {},
     "output_type": "execute_result"
    }
   ],
   "source": [
    "[x for x in range(10)] #Loop para percorrer uma lista de elementos e retornar cada elemento "
   ]
  },
  {
   "cell_type": "code",
   "execution_count": 3,
   "id": "653a7908",
   "metadata": {},
   "outputs": [],
   "source": [
    "lista_numeros = [x for x in range(10)]"
   ]
  },
  {
   "cell_type": "code",
   "execution_count": 4,
   "id": "d23d88f3",
   "metadata": {},
   "outputs": [
    {
     "name": "stdout",
     "output_type": "stream",
     "text": [
      "[0, 1, 2, 3, 4, 5, 6, 7, 8, 9]\n"
     ]
    }
   ],
   "source": [
    "print (lista_numeros)"
   ]
  },
  {
   "cell_type": "code",
   "execution_count": 5,
   "id": "f10ceb9f",
   "metadata": {},
   "outputs": [
    {
     "name": "stdout",
     "output_type": "stream",
     "text": [
      "[0, 1, 2, 3, 4]\n"
     ]
    }
   ],
   "source": [
    "lista_numeros = [x for x in range(10) if x<5]\n",
    "print(lista_numeros)"
   ]
  },
  {
   "cell_type": "code",
   "execution_count": 6,
   "id": "e50d47a8",
   "metadata": {},
   "outputs": [],
   "source": [
    "lista_frutas = [\"abacate\",\"banana\",\"melancia\",\"cereja\",\"manga\"]\n",
    "nova_lista = []"
   ]
  },
  {
   "cell_type": "code",
   "execution_count": 7,
   "id": "f943d0df",
   "metadata": {},
   "outputs": [
    {
     "name": "stdout",
     "output_type": "stream",
     "text": [
      "['melancia', 'manga']\n"
     ]
    }
   ],
   "source": [
    "for x in lista_frutas:\n",
    "    if \"m\" in x:\n",
    "        nova_lista.append(x)\n",
    "print(nova_lista)"
   ]
  },
  {
   "cell_type": "code",
   "execution_count": 10,
   "id": "67cd737e",
   "metadata": {},
   "outputs": [
    {
     "name": "stdout",
     "output_type": "stream",
     "text": [
      "['abacate', 'melancia', 'cereja']\n"
     ]
    }
   ],
   "source": [
    "#Usando list comprehension\n",
    "nova_lista = [x for x in lista_frutas if \"c\" in x]\n",
    "print (nova_lista)"
   ]
  },
  {
   "cell_type": "code",
   "execution_count": 12,
   "id": "311bf32b",
   "metadata": {},
   "outputs": [
    {
     "name": "stdout",
     "output_type": "stream",
     "text": [
      "{'Bob': 68, 'Michael': 84, 'Zico': 57, 'Ana': 93}\n"
     ]
    }
   ],
   "source": [
    "#dict comprehension\n",
    "\n",
    "dict_alunos = {'Bob':68, 'Michael':84, 'Zico':57, 'Ana':93}\n",
    "\n",
    "dict_alunos_status ={k:v for (k,v) in dict_alunos.items()}\n",
    "print(dict_alunos_status )"
   ]
  },
  {
   "cell_type": "code",
   "execution_count": 14,
   "id": "5264cf6c",
   "metadata": {},
   "outputs": [
    {
     "name": "stdout",
     "output_type": "stream",
     "text": [
      "{'Bob': 'Reprovado', 'Michael': 'Aprovado', 'Zico': 'Reprovado', 'Ana': 'Aprovado'}\n"
     ]
    }
   ],
   "source": [
    "dict_alunos = {'Bob':68, 'Michael':84, 'Zico':57, 'Ana':93}\n",
    "dict_alunos_status ={k:('Aprovado' if v>70 else 'Reprovado') for (k,v) in dict_alunos.items()}\n",
    "print(dict_alunos_status )"
   ]
  }
 ],
 "metadata": {
  "kernelspec": {
   "display_name": "Python 3 (ipykernel)",
   "language": "python",
   "name": "python3"
  },
  "language_info": {
   "codemirror_mode": {
    "name": "ipython",
    "version": 3
   },
   "file_extension": ".py",
   "mimetype": "text/x-python",
   "name": "python",
   "nbconvert_exporter": "python",
   "pygments_lexer": "ipython3",
   "version": "3.9.13"
  }
 },
 "nbformat": 4,
 "nbformat_minor": 5
}
