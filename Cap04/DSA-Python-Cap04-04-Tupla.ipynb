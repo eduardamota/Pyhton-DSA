{
 "cells": [
  {
   "cell_type": "code",
   "execution_count": 1,
   "id": "65887bb7",
   "metadata": {},
   "outputs": [],
   "source": [
    "#Criando Tupla\n",
    "tupla1 = (\"Geografia\",23,\"Elefantes\",9.8,\"Python\")"
   ]
  },
  {
   "cell_type": "code",
   "execution_count": 2,
   "id": "595a6b9d",
   "metadata": {},
   "outputs": [
    {
     "data": {
      "text/plain": [
       "('Geografia', 23, 'Elefantes', 9.8, 'Python')"
      ]
     },
     "execution_count": 2,
     "metadata": {},
     "output_type": "execute_result"
    }
   ],
   "source": [
    "tupla1"
   ]
  },
  {
   "cell_type": "code",
   "execution_count": null,
   "id": "bc025877",
   "metadata": {},
   "outputs": [],
   "source": [
    "#Tuplas não suportam append()"
   ]
  },
  {
   "cell_type": "code",
   "execution_count": 3,
   "id": "280ade1c",
   "metadata": {},
   "outputs": [
    {
     "data": {
      "text/plain": [
       "'Geografia'"
      ]
     },
     "execution_count": 3,
     "metadata": {},
     "output_type": "execute_result"
    }
   ],
   "source": [
    "tupla1[0]"
   ]
  },
  {
   "cell_type": "code",
   "execution_count": 4,
   "id": "826f4a25",
   "metadata": {},
   "outputs": [
    {
     "data": {
      "text/plain": [
       "5"
      ]
     },
     "execution_count": 4,
     "metadata": {},
     "output_type": "execute_result"
    }
   ],
   "source": [
    "len(tupla1)"
   ]
  },
  {
   "cell_type": "code",
   "execution_count": 6,
   "id": "fa830112",
   "metadata": {},
   "outputs": [
    {
     "data": {
      "text/plain": [
       "(23, 'Elefantes', 9.8, 'Python')"
      ]
     },
     "execution_count": 6,
     "metadata": {},
     "output_type": "execute_result"
    }
   ],
   "source": [
    "tupla1[1:]"
   ]
  }
 ],
 "metadata": {
  "kernelspec": {
   "display_name": "Python 3 (ipykernel)",
   "language": "python",
   "name": "python3"
  },
  "language_info": {
   "codemirror_mode": {
    "name": "ipython",
    "version": 3
   },
   "file_extension": ".py",
   "mimetype": "text/x-python",
   "name": "python",
   "nbconvert_exporter": "python",
   "pygments_lexer": "ipython3",
   "version": "3.9.13"
  }
 },
 "nbformat": 4,
 "nbformat_minor": 5
}
